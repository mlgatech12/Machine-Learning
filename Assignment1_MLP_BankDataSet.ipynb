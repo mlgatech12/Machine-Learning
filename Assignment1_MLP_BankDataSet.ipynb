{
 "cells": [
  {
   "cell_type": "code",
   "execution_count": 4,
   "metadata": {
    "collapsed": true
   },
   "outputs": [],
   "source": [
    "import pandas as pd\n",
    "import numpy as np\n",
    "from sklearn.neural_network import MLPClassifier\n",
    "from sklearn.model_selection import learning_curve\n",
    "from sklearn import tree, metrics\n",
    "from matplotlib import pyplot as plt\n",
    "from sklearn.model_selection import train_test_split\n",
    "from sklearn.model_selection import StratifiedKFold\n",
    "from sklearn.metrics import make_scorer, accuracy_score, confusion_matrix, classification_report, roc_auc_score\n",
    "from sklearn.model_selection import  cross_val_score\n",
    "from sklearn import model_selection\n",
    "from sklearn.model_selection import GridSearchCV\n",
    "from time import time\n",
    "from operator import itemgetter\n",
    "from sklearn.model_selection import validation_curve\n",
    "import datetime\n",
    "\n",
    "import sklearn.preprocessing as preprocessing\n",
    "from sklearn.model_selection import learning_curve\n",
    "from sklearn.model_selection import ShuffleSplit\n",
    "\n",
    "#import graphviz \n",
    "import timeit\n",
    "import os\n",
    "from IPython.display import Image"
   ]
  },
  {
   "cell_type": "code",
   "execution_count": 5,
   "metadata": {},
   "outputs": [
    {
     "data": {
      "text/plain": [
       "45211"
      ]
     },
     "execution_count": 5,
     "metadata": {},
     "output_type": "execute_result"
    }
   ],
   "source": [
    "bank_data = pd.read_csv('bank-full.csv', delimiter = \";\", header=\"infer\")\n",
    "len(bank_data)"
   ]
  },
  {
   "cell_type": "code",
   "execution_count": 6,
   "metadata": {
    "collapsed": true
   },
   "outputs": [],
   "source": [
    "bank_data = pd.get_dummies(bank_data, columns=['job','marital',\n",
    "                                         'education','default',\n",
    "                                         'housing','loan',\n",
    "                                         'contact','month',\n",
    "                                         'poutcome'])"
   ]
  },
  {
   "cell_type": "code",
   "execution_count": 7,
   "metadata": {
    "collapsed": true
   },
   "outputs": [],
   "source": [
    "bank_data.y.replace(('yes','no'), (1,0), inplace = True)"
   ]
  },
  {
   "cell_type": "code",
   "execution_count": 8,
   "metadata": {
    "collapsed": true
   },
   "outputs": [],
   "source": [
    "y = bank_data['y']\n",
    "del bank_data['y']\n"
   ]
  },
  {
   "cell_type": "code",
   "execution_count": 9,
   "metadata": {},
   "outputs": [
    {
     "data": {
      "text/html": [
       "<div>\n",
       "<style scoped>\n",
       "    .dataframe tbody tr th:only-of-type {\n",
       "        vertical-align: middle;\n",
       "    }\n",
       "\n",
       "    .dataframe tbody tr th {\n",
       "        vertical-align: top;\n",
       "    }\n",
       "\n",
       "    .dataframe thead th {\n",
       "        text-align: right;\n",
       "    }\n",
       "</style>\n",
       "<table border=\"1\" class=\"dataframe\">\n",
       "  <thead>\n",
       "    <tr style=\"text-align: right;\">\n",
       "      <th></th>\n",
       "      <th>age</th>\n",
       "      <th>balance</th>\n",
       "      <th>day</th>\n",
       "      <th>duration</th>\n",
       "      <th>campaign</th>\n",
       "      <th>pdays</th>\n",
       "      <th>previous</th>\n",
       "      <th>job_admin.</th>\n",
       "      <th>job_blue-collar</th>\n",
       "      <th>job_entrepreneur</th>\n",
       "      <th>...</th>\n",
       "      <th>month_jun</th>\n",
       "      <th>month_mar</th>\n",
       "      <th>month_may</th>\n",
       "      <th>month_nov</th>\n",
       "      <th>month_oct</th>\n",
       "      <th>month_sep</th>\n",
       "      <th>poutcome_failure</th>\n",
       "      <th>poutcome_other</th>\n",
       "      <th>poutcome_success</th>\n",
       "      <th>poutcome_unknown</th>\n",
       "    </tr>\n",
       "  </thead>\n",
       "  <tbody>\n",
       "    <tr>\n",
       "      <th>0</th>\n",
       "      <td>58</td>\n",
       "      <td>2143</td>\n",
       "      <td>5</td>\n",
       "      <td>261</td>\n",
       "      <td>1</td>\n",
       "      <td>-1</td>\n",
       "      <td>0</td>\n",
       "      <td>0</td>\n",
       "      <td>0</td>\n",
       "      <td>0</td>\n",
       "      <td>...</td>\n",
       "      <td>0</td>\n",
       "      <td>0</td>\n",
       "      <td>1</td>\n",
       "      <td>0</td>\n",
       "      <td>0</td>\n",
       "      <td>0</td>\n",
       "      <td>0</td>\n",
       "      <td>0</td>\n",
       "      <td>0</td>\n",
       "      <td>1</td>\n",
       "    </tr>\n",
       "    <tr>\n",
       "      <th>1</th>\n",
       "      <td>44</td>\n",
       "      <td>29</td>\n",
       "      <td>5</td>\n",
       "      <td>151</td>\n",
       "      <td>1</td>\n",
       "      <td>-1</td>\n",
       "      <td>0</td>\n",
       "      <td>0</td>\n",
       "      <td>0</td>\n",
       "      <td>0</td>\n",
       "      <td>...</td>\n",
       "      <td>0</td>\n",
       "      <td>0</td>\n",
       "      <td>1</td>\n",
       "      <td>0</td>\n",
       "      <td>0</td>\n",
       "      <td>0</td>\n",
       "      <td>0</td>\n",
       "      <td>0</td>\n",
       "      <td>0</td>\n",
       "      <td>1</td>\n",
       "    </tr>\n",
       "    <tr>\n",
       "      <th>2</th>\n",
       "      <td>33</td>\n",
       "      <td>2</td>\n",
       "      <td>5</td>\n",
       "      <td>76</td>\n",
       "      <td>1</td>\n",
       "      <td>-1</td>\n",
       "      <td>0</td>\n",
       "      <td>0</td>\n",
       "      <td>0</td>\n",
       "      <td>1</td>\n",
       "      <td>...</td>\n",
       "      <td>0</td>\n",
       "      <td>0</td>\n",
       "      <td>1</td>\n",
       "      <td>0</td>\n",
       "      <td>0</td>\n",
       "      <td>0</td>\n",
       "      <td>0</td>\n",
       "      <td>0</td>\n",
       "      <td>0</td>\n",
       "      <td>1</td>\n",
       "    </tr>\n",
       "    <tr>\n",
       "      <th>3</th>\n",
       "      <td>47</td>\n",
       "      <td>1506</td>\n",
       "      <td>5</td>\n",
       "      <td>92</td>\n",
       "      <td>1</td>\n",
       "      <td>-1</td>\n",
       "      <td>0</td>\n",
       "      <td>0</td>\n",
       "      <td>1</td>\n",
       "      <td>0</td>\n",
       "      <td>...</td>\n",
       "      <td>0</td>\n",
       "      <td>0</td>\n",
       "      <td>1</td>\n",
       "      <td>0</td>\n",
       "      <td>0</td>\n",
       "      <td>0</td>\n",
       "      <td>0</td>\n",
       "      <td>0</td>\n",
       "      <td>0</td>\n",
       "      <td>1</td>\n",
       "    </tr>\n",
       "    <tr>\n",
       "      <th>4</th>\n",
       "      <td>33</td>\n",
       "      <td>1</td>\n",
       "      <td>5</td>\n",
       "      <td>198</td>\n",
       "      <td>1</td>\n",
       "      <td>-1</td>\n",
       "      <td>0</td>\n",
       "      <td>0</td>\n",
       "      <td>0</td>\n",
       "      <td>0</td>\n",
       "      <td>...</td>\n",
       "      <td>0</td>\n",
       "      <td>0</td>\n",
       "      <td>1</td>\n",
       "      <td>0</td>\n",
       "      <td>0</td>\n",
       "      <td>0</td>\n",
       "      <td>0</td>\n",
       "      <td>0</td>\n",
       "      <td>0</td>\n",
       "      <td>1</td>\n",
       "    </tr>\n",
       "  </tbody>\n",
       "</table>\n",
       "<p>5 rows × 51 columns</p>\n",
       "</div>"
      ],
      "text/plain": [
       "   age  balance  day  duration  campaign  pdays  previous  job_admin.  \\\n",
       "0   58     2143    5       261         1     -1         0           0   \n",
       "1   44       29    5       151         1     -1         0           0   \n",
       "2   33        2    5        76         1     -1         0           0   \n",
       "3   47     1506    5        92         1     -1         0           0   \n",
       "4   33        1    5       198         1     -1         0           0   \n",
       "\n",
       "   job_blue-collar  job_entrepreneur  ...  month_jun  month_mar  month_may  \\\n",
       "0                0                 0  ...          0          0          1   \n",
       "1                0                 0  ...          0          0          1   \n",
       "2                0                 1  ...          0          0          1   \n",
       "3                1                 0  ...          0          0          1   \n",
       "4                0                 0  ...          0          0          1   \n",
       "\n",
       "   month_nov  month_oct  month_sep  poutcome_failure  poutcome_other  \\\n",
       "0          0          0          0                 0               0   \n",
       "1          0          0          0                 0               0   \n",
       "2          0          0          0                 0               0   \n",
       "3          0          0          0                 0               0   \n",
       "4          0          0          0                 0               0   \n",
       "\n",
       "   poutcome_success  poutcome_unknown  \n",
       "0                 0                 1  \n",
       "1                 0                 1  \n",
       "2                 0                 1  \n",
       "3                 0                 1  \n",
       "4                 0                 1  \n",
       "\n",
       "[5 rows x 51 columns]"
      ]
     },
     "execution_count": 9,
     "metadata": {},
     "output_type": "execute_result"
    }
   ],
   "source": [
    "bank_data.head()"
   ]
  },
  {
   "cell_type": "code",
   "execution_count": 10,
   "metadata": {},
   "outputs": [
    {
     "name": "stdout",
     "output_type": "stream",
     "text": [
      "Training dataset size:  31647\n",
      "Testing dataset size:  13564\n",
      "Training label dataset size:  31647\n",
      "Testing label dataset size:  13564\n"
     ]
    }
   ],
   "source": [
    "\n",
    "# Train - Test split# Train  \n",
    "X_train, X_test, y_train, y_test = train_test_split(bank_data, y, test_size  = 0.3)\n",
    "\n",
    "print(\"Training dataset size: \", len(X_train))\n",
    "print(\"Testing dataset size: \", len(X_test))\n",
    "print(\"Training label dataset size: \", len(y_train))\n",
    "print(\"Testing label dataset size: \", len(y_test))"
   ]
  },
  {
   "cell_type": "code",
   "execution_count": 11,
   "metadata": {
    "collapsed": true
   },
   "outputs": [],
   "source": [
    "X_train = preprocessing.scale(X_train)\n",
    "X_test = preprocessing.scale(X_test)"
   ]
  },
  {
   "cell_type": "code",
   "execution_count": 11,
   "metadata": {
    "collapsed": true
   },
   "outputs": [],
   "source": [
    "\n",
    "np.random.seed(55)\n",
    "mlp = MLPClassifier()\n",
    "hidden_layer_sizes = [5,10,15,(15,15), 20, 40, (40,40), 50, 100]\n",
    "\n",
    "#hidden_layer_sizes = [(100,), (100, 100), (100,100,100), (100,100,100,100), (500,), (500,500)]\n",
    "'''\n",
    "cross_validation_params = {\n",
    "    'hidden_layer_sizes': [(100,), (100, 100), (100,100,100), (100,100,100,100), (500,), (500,500)],\n",
    "    'activation': ['logistic', 'tanh', 'relu'],\n",
    "    'solver': ['lbfgs', 'sgd', 'adam'],\n",
    "    'momentum': [0, 0.5, 0.9]\n",
    "}\n",
    "'''\n",
    "\n",
    "\n",
    "train_scores, test_scores = validation_curve( mlp, X_train, y_train, param_name=\"hidden_layer_sizes\", param_range=hidden_layer_sizes,\n",
    "    cv=5, scoring=make_scorer(accuracy_score), n_jobs=4)\n",
    "train_mean = np.mean(train_scores, axis=1)\n",
    "train_std = np.std(train_scores, axis=1)\n",
    "test_mean = np.mean(test_scores, axis=1)\n",
    "test_std = np.std(test_scores, axis=1)\n",
    "\n"
   ]
  },
  {
   "cell_type": "code",
   "execution_count": 12,
   "metadata": {},
   "outputs": [
    {
     "data": {
      "image/png": "[encoded data removed]",
      "text/plain": [
       "<Figure size 432x288 with 1 Axes>"
      ]
     },
     "metadata": {
      "needs_background": "light"
     },
     "output_type": "display_data"
    },
    {
     "name": "stdout",
     "output_type": "stream",
     "text": [
      "train_scores = [0.91057606 0.91537113 0.92045059 0.9246848  0.92376054 0.93643157\n",
      " 0.96464119 0.94078426 0.96268209]\n",
      "test_scores = [0.90463554 0.90612063 0.90349796 0.90049609 0.90280268 0.89986417\n",
      " 0.88915207 0.89856858 0.89439748]\n",
      "Optimal param =  10  Minimum Error =   0.09387936919673412\n"
     ]
    }
   ],
   "source": [
    "hidden_layer_params = ['5','10','15', '(15,15)', '20', '40', '(40,40)', '50', '100']\n",
    "\n",
    "plt.title(\"Marketing Dataset - Neural Network Model Complexity \\n Hyper Parameter: Number of Hidden Layers (Figure 16)\")\n",
    "plt.xlabel(\"Number of Hidden Layers\")\n",
    "plt.ylabel(\"Error\")\n",
    "\n",
    "\n",
    "lw = 2\n",
    "plt.plot(np.arange(1,10), 1 - train_mean, label=\"Training Error\",\n",
    "             color=\"darkorange\", lw=lw)\n",
    "plt.plot(np.arange(1,10) , 1 - test_mean, label=\"Cross-validation Error\",\n",
    "             color=\"navy\", lw=lw)\n",
    "plt.legend(loc=\"best\")\n",
    "plt.xticks(np.arange(1,10), hidden_layer_params)\n",
    "\n",
    "plt.show()\n",
    "\n",
    "print(\"train_scores =\", train_mean)\n",
    "print(\"test_scores =\", test_mean)\n",
    "print(\"Optimal param = \",  hidden_layer_sizes[np.ndarray.argmax(test_mean)], \" Minimum Error =  \" , (1 - np.amax(test_mean))  )\n",
    "\n"
   ]
  },
  {
   "cell_type": "markdown",
   "metadata": {},
   "source": [
    "### Choose optimal activation parameter\n"
   ]
  },
  {
   "cell_type": "code",
   "execution_count": 13,
   "metadata": {
    "collapsed": true
   },
   "outputs": [],
   "source": [
    "\n",
    "np.random.seed(55)\n",
    "mlp = MLPClassifier(hidden_layer_sizes = (10,))\n",
    "\n",
    "activation_param = ['logistic', 'tanh', 'relu']\n",
    "\n",
    "\n",
    "train_scores, test_scores = validation_curve( mlp, X_train, y_train, param_name=\"activation\", param_range=activation_param,\n",
    "    cv=5, scoring=make_scorer(accuracy_score), n_jobs=1)\n",
    "train_mean = np.mean(train_scores, axis=1)\n",
    "train_std = np.std(train_scores, axis=1)\n",
    "test_mean = np.mean(test_scores, axis=1)\n",
    "test_std = np.std(test_scores, axis=1)\n",
    "\n"
   ]
  },
  {
   "cell_type": "code",
   "execution_count": 14,
   "metadata": {},
   "outputs": [
    {
     "data": {
      "image/png": "[encoded data removed]",
      "text/plain": [
       "<Figure size 432x288 with 1 Axes>"
      ]
     },
     "metadata": {
      "needs_background": "light"
     },
     "output_type": "display_data"
    },
    {
     "name": "stdout",
     "output_type": "stream",
     "text": [
      "train_scores = [0.9160189  0.91835717 0.91639018]\n",
      "test_scores = [0.90703704 0.90447754 0.90533063]\n",
      "Optimal param =  logistic  Minimum Error =   0.09296296268561899\n"
     ]
    }
   ],
   "source": [
    "plt.title(\"Marketing Dataset - Neural Network Model Complexity \\n Hyper Parameter: Activation (Figure 18)\")\n",
    "\n",
    "plt.xlabel(\"Activation Parameter\")\n",
    "plt.ylabel(\"Error\")\n",
    "\n",
    "\n",
    "lw = 2\n",
    "plt.plot(activation_param, 1 - train_mean, label=\"Training Error\",\n",
    "             color=\"darkorange\", lw=lw)\n",
    "plt.plot(activation_param, 1 - test_mean, label=\"Cross-validation Error\",\n",
    "             color=\"navy\", lw=lw)\n",
    "plt.legend(loc=\"best\")\n",
    "plt.show()\n",
    "\n",
    "print(\"train_scores =\", train_mean)\n",
    "print(\"test_scores =\", test_mean)\n",
    "print(\"Optimal param = \",  activation_param[np.ndarray.argmax(test_mean)], \" Minimum Error =  \" , (1 - np.amax(test_mean))  )\n",
    "\n",
    "\n"
   ]
  },
  {
   "cell_type": "code",
   "execution_count": 15,
   "metadata": {},
   "outputs": [
    {
     "name": "stderr",
     "output_type": "stream",
     "text": [
      "C:\\ProgramData\\Anaconda3\\lib\\site-packages\\sklearn\\neural_network\\multilayer_perceptron.py:566: ConvergenceWarning: Stochastic Optimizer: Maximum iterations (200) reached and the optimization hasn't converged yet.\n",
      "  % self.max_iter, ConvergenceWarning)\n"
     ]
    }
   ],
   "source": [
    "\n",
    "np.random.seed(55)\n",
    "mlp = MLPClassifier(hidden_layer_sizes = (10,), activation = \"tanh\")\n",
    "\n",
    "solver_param = ['lbfgs', 'sgd', 'adam']\n",
    "\n",
    "\n",
    "train_scores, test_scores = validation_curve( mlp, X_train, y_train, param_name=\"solver\", param_range=solver_param,\n",
    "    cv=5, scoring=make_scorer(accuracy_score), n_jobs=1)\n",
    "train_mean = np.mean(train_scores, axis=1)\n",
    "train_std = np.std(train_scores, axis=1)\n",
    "test_mean = np.mean(test_scores, axis=1)\n",
    "test_std = np.std(test_scores, axis=1)\n",
    "\n"
   ]
  },
  {
   "cell_type": "code",
   "execution_count": 16,
   "metadata": {},
   "outputs": [
    {
     "data": {
      "image/png": "[encoded data removed]",
      "text/plain": [
       "<Figure size 432x288 with 1 Axes>"
      ]
     },
     "metadata": {
      "needs_background": "light"
     },
     "output_type": "display_data"
    },
    {
     "name": "stdout",
     "output_type": "stream",
     "text": [
      "train_scores = [0.92810534 0.9068948  0.91852307]\n",
      "test_scores = [0.89521925 0.90394037 0.90346635]\n",
      "Optimal param =  sgd  Minimum Error =   0.09605962872576568\n"
     ]
    }
   ],
   "source": [
    "plt.title(\"Marketing Dataset - Neural Network Model Complexity \\n Hyper Parameter: Activation (Figure 18a)\")\n",
    "plt.xlabel(\"Solver Parameter\")\n",
    "plt.ylabel(\"Error\")\n",
    "\n",
    "\n",
    "lw = 2\n",
    "plt.plot(solver_param, 1 - train_mean, label=\"Training Error\",\n",
    "             color=\"darkorange\", lw=lw)\n",
    "plt.plot(solver_param , 1 - test_mean, label=\"Cross-validation Error\",\n",
    "             color=\"navy\", lw=lw)\n",
    "plt.legend(loc=\"best\")\n",
    "plt.show()\n",
    "\n",
    "print(\"train_scores =\", train_mean)\n",
    "print(\"test_scores =\", test_mean)\n",
    "print(\"Optimal param = \",  solver_param[np.ndarray.argmax(test_mean)], \" Minimum Error =  \" , (1 - np.amax(test_mean))  )\n",
    "\n",
    "\n",
    "\n"
   ]
  },
  {
   "cell_type": "markdown",
   "metadata": {},
   "source": [
    "### Create learning curve - Sample data set size vs. Error"
   ]
  },
  {
   "cell_type": "code",
   "execution_count": null,
   "metadata": {
    "collapsed": true
   },
   "outputs": [],
   "source": [
    "mlp = MLPClassifier(hidden_layer_sizes = (100,), activation = \"tanh\", solver = \"adam\")"
   ]
  },
  {
   "cell_type": "code",
   "execution_count": null,
   "metadata": {
    "collapsed": true
   },
   "outputs": [],
   "source": [
    "mlp.fit(X_train,y_train)\n",
    "mlp.score(X_test,y_test)"
   ]
  },
  {
   "cell_type": "code",
   "execution_count": 36,
   "metadata": {},
   "outputs": [
    {
     "name": "stderr",
     "output_type": "stream",
     "text": [
      "/anaconda3/lib/python3.6/site-packages/sklearn/neural_network/multilayer_perceptron.py:564: ConvergenceWarning: Stochastic Optimizer: Maximum iterations (200) reached and the optimization hasn't converged yet.\n",
      "  % self.max_iter, ConvergenceWarning)\n",
      "/anaconda3/lib/python3.6/site-packages/sklearn/neural_network/multilayer_perceptron.py:564: ConvergenceWarning: Stochastic Optimizer: Maximum iterations (200) reached and the optimization hasn't converged yet.\n",
      "  % self.max_iter, ConvergenceWarning)\n",
      "/anaconda3/lib/python3.6/site-packages/sklearn/neural_network/multilayer_perceptron.py:564: ConvergenceWarning: Stochastic Optimizer: Maximum iterations (200) reached and the optimization hasn't converged yet.\n",
      "  % self.max_iter, ConvergenceWarning)\n",
      "/anaconda3/lib/python3.6/site-packages/sklearn/neural_network/multilayer_perceptron.py:564: ConvergenceWarning: Stochastic Optimizer: Maximum iterations (200) reached and the optimization hasn't converged yet.\n",
      "  % self.max_iter, ConvergenceWarning)\n",
      "/anaconda3/lib/python3.6/site-packages/sklearn/neural_network/multilayer_perceptron.py:564: ConvergenceWarning: Stochastic Optimizer: Maximum iterations (200) reached and the optimization hasn't converged yet.\n",
      "  % self.max_iter, ConvergenceWarning)\n",
      "/anaconda3/lib/python3.6/site-packages/sklearn/neural_network/multilayer_perceptron.py:564: ConvergenceWarning: Stochastic Optimizer: Maximum iterations (200) reached and the optimization hasn't converged yet.\n",
      "  % self.max_iter, ConvergenceWarning)\n",
      "/anaconda3/lib/python3.6/site-packages/sklearn/neural_network/multilayer_perceptron.py:564: ConvergenceWarning: Stochastic Optimizer: Maximum iterations (200) reached and the optimization hasn't converged yet.\n",
      "  % self.max_iter, ConvergenceWarning)\n",
      "/anaconda3/lib/python3.6/site-packages/sklearn/neural_network/multilayer_perceptron.py:564: ConvergenceWarning: Stochastic Optimizer: Maximum iterations (200) reached and the optimization hasn't converged yet.\n",
      "  % self.max_iter, ConvergenceWarning)\n",
      "/anaconda3/lib/python3.6/site-packages/sklearn/neural_network/multilayer_perceptron.py:564: ConvergenceWarning: Stochastic Optimizer: Maximum iterations (200) reached and the optimization hasn't converged yet.\n",
      "  % self.max_iter, ConvergenceWarning)\n",
      "/anaconda3/lib/python3.6/site-packages/sklearn/neural_network/multilayer_perceptron.py:564: ConvergenceWarning: Stochastic Optimizer: Maximum iterations (200) reached and the optimization hasn't converged yet.\n",
      "  % self.max_iter, ConvergenceWarning)\n",
      "/anaconda3/lib/python3.6/site-packages/sklearn/neural_network/multilayer_perceptron.py:564: ConvergenceWarning: Stochastic Optimizer: Maximum iterations (200) reached and the optimization hasn't converged yet.\n",
      "  % self.max_iter, ConvergenceWarning)\n"
     ]
    }
   ],
   "source": [
    "np.random.seed(55)\n",
    "training_sizes = [0.1, 0.2, 0.3, 0.4, 0.5, 0.6, 0.7, 0.8, 0.9, 1.0]\n",
    "\n",
    "\n",
    "#Create timings for Cross validation Set on Adult Income dataset\n",
    "mlp = MLPClassifier(hidden_layer_sizes = (10,), activation = \"tanh\", solver = \"adam\")\n",
    "train_sizes = np.zeros(10)\n",
    "\n",
    "i=0\n",
    "cv_scores=np.zeros(10)\n",
    "train_scores=np.zeros(10)\n",
    "    \n",
    "for sub in training_sizes:\n",
    "    msk = np.random.rand(len(X_train)) < sub\n",
    "    smaller_X_train = X_train[msk]\n",
    "    smaller_y_train = y_train[msk]\n",
    "    train_sizes[i] = len(smaller_X_train)\n",
    "    #print(\"i = \" , i)\n",
    "    sub_X_train, sub_X_test, sub_y_train, sub_y_test = train_test_split(smaller_X_train, smaller_y_train, \n",
    "                                                                            test_size=0.3)\n",
    "    scores = cross_val_score(mlp , sub_X_train, sub_y_train, cv = 5, scoring = make_scorer(accuracy_score))\n",
    "    cv_scores[i] = np.mean(scores)\n",
    "    mlp.fit(sub_X_train, sub_y_train)\n",
    "    train_scores[i] = mlp.score(sub_X_train, sub_y_train)\n",
    "    i = i + 1\n",
    "\n",
    "\n",
    "\n"
   ]
  },
  {
   "cell_type": "code",
   "execution_count": 37,
   "metadata": {},
   "outputs": [
    {
     "data": {
      "image/png": "[encoded data removed]",
      "text/plain": [
       "<matplotlib.figure.Figure at 0x10e79b7b8>"
      ]
     },
     "metadata": {},
     "output_type": "display_data"
    }
   ],
   "source": [
    "title = \"Marketing Dataset - Neural Network Learning Curve \\n (Figure 20)\"\n",
    "fig, ax = plt.subplots()\n",
    "plt.title(title)\n",
    "plt.xlabel(\"Training Dataset Size\")\n",
    "plt.ylabel(\"Error\")\n",
    "\n",
    "\n",
    "\n",
    "\n",
    "ax.plot(train_sizes, 1 - train_scores, 'o-', color=\"r\",\n",
    "             label=\"Training Error\",  lw=lw)\n",
    "ax.plot(train_sizes, (1- cv_scores), 'o-', color=\"g\",\n",
    "             label=\"Cross-validation Error\",  lw=lw)\n",
    "\n",
    "\n",
    "ax.legend(loc=\"best\")\n",
    "\n",
    "plt.show()\n",
    "\n"
   ]
  },
  {
   "cell_type": "markdown",
   "metadata": {},
   "source": [
    "##Create learning curve"
   ]
  },
  {
   "cell_type": "code",
   "execution_count": 12,
   "metadata": {},
   "outputs": [
    {
     "name": "stdout",
     "output_type": "stream",
     "text": [
      "\n",
      "train_scores = [0.90288424 0.90807821 0.90688611 0.90833498 0.90714173 0.90630678\n",
      " 0.90639354 0.90589049 0.90684222 0.90618162]\n",
      "test_scores = [0.8984737  0.9006541  0.90150727 0.90157038 0.90204433 0.90138088\n",
      " 0.90258146 0.9030238  0.90359256 0.90450908]\n",
      "train sizes = [ 2531  5063  7595 10126 12658 15190 17721 20253 22785 25317]\n"
     ]
    },
    {
     "data": {
      "image/png": "[encoded data removed]",
      "text/plain": [
       "<Figure size 432x288 with 1 Axes>"
      ]
     },
     "metadata": {
      "needs_background": "light"
     },
     "output_type": "display_data"
    }
   ],
   "source": [
    "np.random.seed(55)\n",
    "estimator = MLPClassifier(hidden_layer_sizes = (10,), activation = \"tanh\", solver = \"sgd\", learning_rate_init=0.001)\n",
    "st_train_time = timeit.default_timer() \n",
    "estimator.fit(X_train, y_train)\n",
    "end_train_time = timeit.default_timer()\n",
    "\n",
    "title = \"Marketing Dataset - Neural Network Learning Curve \\n(Figure 20)\"\n",
    "ylim=(0.0, 0.3)\n",
    "# Cross validation with 100 iterations to get smoother mean test and train\n",
    "# score curves, each time with 20% data randomly selected as a validation set.\n",
    "#cv = ShuffleSplit(n_splits=100, test_size=0.3, random_state=0)\n",
    "#cv = StratifiedKFold(y_train, n_folds=10)\n",
    "#plot_learning_curve(estimator, title, X_train, y_train, , cv=cv, n_jobs=4)\n",
    "\n",
    "\n",
    "\n",
    "plt.title(title)\n",
    "if ylim is not None:\n",
    "    plt.ylim(*ylim)\n",
    "plt.xlabel(\"Training Dataset Size\")\n",
    "plt.ylabel(\"Error\")\n",
    "train_sizes, train_scores, test_scores = learning_curve(\n",
    "    estimator, X_train, y_train, cv=5, n_jobs=4, train_sizes=np.linspace(.1, 1.0, 10), shuffle = True)\n",
    "\n",
    "\n",
    "\n",
    "train_scores_mean = np.mean(train_scores, axis=1)\n",
    "train_scores_std = np.std(train_scores, axis=1)\n",
    "test_scores_mean = np.mean(test_scores, axis=1)\n",
    "test_scores_std = np.std(test_scores, axis=1)\n",
    "#test_scores_mean1 = np.mean(test_scores1, axis=1)\n",
    "\n",
    "print(\"\")\n",
    "    \n",
    "lw = 2\n",
    "plt.plot(train_sizes, 1 - train_scores_mean, 'o-', color=\"r\",\n",
    "             label=\"Training Error\",  lw=lw)\n",
    "plt.plot(train_sizes, (1- test_scores_mean), 'o-', color=\"g\",\n",
    "             label=\"Cross-validation Error\",  lw=lw)\n",
    "\n",
    "plt.legend(loc=\"best\")\n",
    "print(\"train_scores =\", train_scores_mean)\n",
    "print(\"test_scores =\", test_scores_mean)\n",
    "print(\"train sizes =\", train_sizes)\n",
    "\n",
    "plt.show()"
   ]
  },
  {
   "cell_type": "code",
   "execution_count": 13,
   "metadata": {},
   "outputs": [
    {
     "name": "stdout",
     "output_type": "stream",
     "text": [
      "Accuracy: 90.56325567679151%\n",
      "[[11607   367]\n",
      " [  913   677]]\n",
      "              precision    recall  f1-score   support\n",
      "\n",
      "           y       0.93      0.97      0.95     11974\n",
      "           n       0.65      0.43      0.51      1590\n",
      "\n",
      "    accuracy                           0.91     13564\n",
      "   macro avg       0.79      0.70      0.73     13564\n",
      "weighted avg       0.89      0.91      0.90     13564\n",
      "\n",
      "AUC = 0.6975682112081417\n",
      "Prediction Time =  0.006082100000000423\n",
      "Training Time =  6.975725600000004\n"
     ]
    }
   ],
   "source": [
    "\n",
    "\n",
    "\n",
    "st_pred_time = timeit.default_timer() \n",
    "y_pred = estimator.predict(X_test)\n",
    "end_pred_time = timeit.default_timer() \n",
    "\n",
    "pred_time = end_pred_time - st_pred_time\n",
    "\n",
    "print(\"Accuracy: %s%%\" % (100*accuracy_score(y_test, y_pred)))\n",
    "print(confusion_matrix(y_test, y_pred))\n",
    "\n",
    "print(classification_report(y_test, y_pred, target_names=['y', 'n']))\n",
    "print(\"AUC =\", roc_auc_score(y_test, y_pred))\n",
    "print(\"Prediction Time = \", pred_time)\n",
    "print(\"Training Time = \", end_train_time - st_train_time)\n",
    "\n",
    "#Create timings for Cross-validation set\n"
   ]
  },
  {
   "cell_type": "code",
   "execution_count": null,
   "metadata": {
    "collapsed": true
   },
   "outputs": [],
   "source": []
  }
 ],
 "metadata": {
  "kernelspec": {
   "display_name": "Python 3",
   "language": "python",
   "name": "python3"
  },
  "language_info": {
   "codemirror_mode": {
    "name": "ipython",
    "version": 3
   },
   "file_extension": ".py",
   "mimetype": "text/x-python",
   "name": "python",
   "nbconvert_exporter": "python",
   "pygments_lexer": "ipython3",
   "version": "3.6.3"
  }
 },
 "nbformat": 4,
 "nbformat_minor": 2
}
