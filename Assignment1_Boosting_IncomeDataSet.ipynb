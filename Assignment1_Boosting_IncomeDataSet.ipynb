{
 "cells": [
  {
   "cell_type": "code",
   "execution_count": 25,
   "metadata": {
    "collapsed": true
   },
   "outputs": [],
   "source": [
    "import pandas as pd\n",
    "import numpy as np\n",
    "from sklearn.tree import DecisionTreeClassifier\n",
    "#from xgboost.sklearn import XGBClassifier\n",
    "from sklearn.ensemble import GradientBoostingClassifier\n",
    "from sklearn.model_selection import learning_curve\n",
    "from sklearn import tree, metrics\n",
    "from matplotlib import pyplot as plt\n",
    "from sklearn.model_selection import train_test_split\n",
    "from sklearn.model_selection import StratifiedKFold\n",
    "from sklearn.metrics import make_scorer, accuracy_score, confusion_matrix, classification_report, roc_auc_score\n",
    "from sklearn.model_selection import  cross_val_score\n",
    "from sklearn import model_selection\n",
    "from sklearn.model_selection import GridSearchCV\n",
    "from time import time\n",
    "from operator import itemgetter\n",
    "from sklearn.model_selection import validation_curve\n",
    "import datetime\n",
    "\n",
    "import sklearn.preprocessing as preprocessing\n",
    "from sklearn.model_selection import learning_curve\n",
    "from sklearn.model_selection import ShuffleSplit\n",
    "\n",
    "#import graphviz \n",
    "import timeit\n",
    "import os\n",
    "from IPython.display import Image"
   ]
  },
  {
   "cell_type": "code",
   "execution_count": 26,
   "metadata": {},
   "outputs": [
    {
     "data": {
      "text/plain": [
       "48842"
      ]
     },
     "execution_count": 26,
     "metadata": {},
     "output_type": "execute_result"
    }
   ],
   "source": [
    "columns = ['age', 'workclass', 'fnlwgt', 'education', 'educationalnum','marital-status', 'occupation', 'relationship', 'race', 'gender','capitalgain', 'capitalloss', 'hoursperweek', 'nativecountry','income']\n",
    "\n",
    "train = pd.read_csv('adult.csv', header=None, names = columns)\n",
    "test = pd.read_csv('adult_test.csv',  header=None, names = columns)\n",
    "\n",
    "adult = pd.concat([train,test])\n",
    "\n",
    "len(adult)"
   ]
  },
  {
   "cell_type": "code",
   "execution_count": 27,
   "metadata": {},
   "outputs": [
    {
     "data": {
      "text/plain": [
       "Index(['age', 'workclass', 'fnlwgt', 'education', 'educationalnum',\n",
       "       'marital-status', 'occupation', 'relationship', 'race', 'gender',\n",
       "       'capitalgain', 'capitalloss', 'hoursperweek', 'nativecountry',\n",
       "       'income'],\n",
       "      dtype='object')"
      ]
     },
     "execution_count": 27,
     "metadata": {},
     "output_type": "execute_result"
    }
   ],
   "source": [
    "adult.columns"
   ]
  },
  {
   "cell_type": "code",
   "execution_count": 28,
   "metadata": {},
   "outputs": [
    {
     "data": {
      "text/plain": [
       "array([' United-States', ' Cuba', ' Jamaica', ' India', ' ?', ' Mexico',\n",
       "       ' South', ' Puerto-Rico', ' Honduras', ' England', ' Canada',\n",
       "       ' Germany', ' Iran', ' Philippines', ' Italy', ' Poland',\n",
       "       ' Columbia', ' Cambodia', ' Thailand', ' Ecuador', ' Laos',\n",
       "       ' Taiwan', ' Haiti', ' Portugal', ' Dominican-Republic',\n",
       "       ' El-Salvador', ' France', ' Guatemala', ' China', ' Japan',\n",
       "       ' Yugoslavia', ' Peru', ' Outlying-US(Guam-USVI-etc)', ' Scotland',\n",
       "       ' Trinadad&Tobago', ' Greece', ' Nicaragua', ' Vietnam', ' Hong',\n",
       "       ' Ireland', ' Hungary', ' Holand-Netherlands'], dtype=object)"
      ]
     },
     "execution_count": 28,
     "metadata": {},
     "output_type": "execute_result"
    }
   ],
   "source": [
    "adult['nativecountry'].unique()"
   ]
  },
  {
   "cell_type": "code",
   "execution_count": 29,
   "metadata": {},
   "outputs": [
    {
     "name": "stdout",
     "output_type": "stream",
     "text": [
      "Before dropping size =  48842\n",
      "After removing rows with value ? 45222\n"
     ]
    }
   ],
   "source": [
    "print(\"Before dropping size = \" , len(adult))\n",
    "\n",
    "adult = adult[adult.occupation.str.strip() != '?']\n",
    "adult = adult[adult.workclass.str.strip() != '?']\n",
    "adult = adult[adult.nativecountry.str.strip() != '?']\n",
    "\n",
    "print(\"After removing rows with value ?\" , len(adult))\n"
   ]
  },
  {
   "cell_type": "code",
   "execution_count": 30,
   "metadata": {
    "collapsed": true
   },
   "outputs": [],
   "source": [
    "def func(x):\n",
    "    if(x == \" <=50K\" or x == \" <=50K.\"):\n",
    "        return 0\n",
    "    elif(x == \" >50K\" or x == ' >50K.'):\n",
    "        return 1\n",
    "adult['income'] = adult['income'].apply(func)\n",
    "\n",
    "y = adult['income']\n",
    "del adult['income']"
   ]
  },
  {
   "cell_type": "code",
   "execution_count": 31,
   "metadata": {},
   "outputs": [
    {
     "data": {
      "text/html": [
       "<div>\n",
       "<style scoped>\n",
       "    .dataframe tbody tr th:only-of-type {\n",
       "        vertical-align: middle;\n",
       "    }\n",
       "\n",
       "    .dataframe tbody tr th {\n",
       "        vertical-align: top;\n",
       "    }\n",
       "\n",
       "    .dataframe thead th {\n",
       "        text-align: right;\n",
       "    }\n",
       "</style>\n",
       "<table border=\"1\" class=\"dataframe\">\n",
       "  <thead>\n",
       "    <tr style=\"text-align: right;\">\n",
       "      <th></th>\n",
       "      <th>age</th>\n",
       "      <th>workclass</th>\n",
       "      <th>fnlwgt</th>\n",
       "      <th>education</th>\n",
       "      <th>educationalnum</th>\n",
       "      <th>marital-status</th>\n",
       "      <th>occupation</th>\n",
       "      <th>relationship</th>\n",
       "      <th>race</th>\n",
       "      <th>gender</th>\n",
       "      <th>capitalgain</th>\n",
       "      <th>capitalloss</th>\n",
       "      <th>hoursperweek</th>\n",
       "      <th>nativecountry</th>\n",
       "    </tr>\n",
       "  </thead>\n",
       "  <tbody>\n",
       "    <tr>\n",
       "      <th>0</th>\n",
       "      <td>39</td>\n",
       "      <td>State-gov</td>\n",
       "      <td>77516</td>\n",
       "      <td>Bachelors</td>\n",
       "      <td>13</td>\n",
       "      <td>Never-married</td>\n",
       "      <td>Adm-clerical</td>\n",
       "      <td>Not-in-family</td>\n",
       "      <td>White</td>\n",
       "      <td>Male</td>\n",
       "      <td>2174</td>\n",
       "      <td>0</td>\n",
       "      <td>40</td>\n",
       "      <td>United-States</td>\n",
       "    </tr>\n",
       "    <tr>\n",
       "      <th>1</th>\n",
       "      <td>50</td>\n",
       "      <td>Self-emp-not-inc</td>\n",
       "      <td>83311</td>\n",
       "      <td>Bachelors</td>\n",
       "      <td>13</td>\n",
       "      <td>Married-civ-spouse</td>\n",
       "      <td>Exec-managerial</td>\n",
       "      <td>Husband</td>\n",
       "      <td>White</td>\n",
       "      <td>Male</td>\n",
       "      <td>0</td>\n",
       "      <td>0</td>\n",
       "      <td>13</td>\n",
       "      <td>United-States</td>\n",
       "    </tr>\n",
       "    <tr>\n",
       "      <th>2</th>\n",
       "      <td>38</td>\n",
       "      <td>Private</td>\n",
       "      <td>215646</td>\n",
       "      <td>HS-grad</td>\n",
       "      <td>9</td>\n",
       "      <td>Divorced</td>\n",
       "      <td>Handlers-cleaners</td>\n",
       "      <td>Not-in-family</td>\n",
       "      <td>White</td>\n",
       "      <td>Male</td>\n",
       "      <td>0</td>\n",
       "      <td>0</td>\n",
       "      <td>40</td>\n",
       "      <td>United-States</td>\n",
       "    </tr>\n",
       "    <tr>\n",
       "      <th>3</th>\n",
       "      <td>53</td>\n",
       "      <td>Private</td>\n",
       "      <td>234721</td>\n",
       "      <td>11th</td>\n",
       "      <td>7</td>\n",
       "      <td>Married-civ-spouse</td>\n",
       "      <td>Handlers-cleaners</td>\n",
       "      <td>Husband</td>\n",
       "      <td>Black</td>\n",
       "      <td>Male</td>\n",
       "      <td>0</td>\n",
       "      <td>0</td>\n",
       "      <td>40</td>\n",
       "      <td>United-States</td>\n",
       "    </tr>\n",
       "    <tr>\n",
       "      <th>4</th>\n",
       "      <td>28</td>\n",
       "      <td>Private</td>\n",
       "      <td>338409</td>\n",
       "      <td>Bachelors</td>\n",
       "      <td>13</td>\n",
       "      <td>Married-civ-spouse</td>\n",
       "      <td>Prof-specialty</td>\n",
       "      <td>Wife</td>\n",
       "      <td>Black</td>\n",
       "      <td>Female</td>\n",
       "      <td>0</td>\n",
       "      <td>0</td>\n",
       "      <td>40</td>\n",
       "      <td>Cuba</td>\n",
       "    </tr>\n",
       "  </tbody>\n",
       "</table>\n",
       "</div>"
      ],
      "text/plain": [
       "   age          workclass  fnlwgt   education  educationalnum  \\\n",
       "0   39          State-gov   77516   Bachelors              13   \n",
       "1   50   Self-emp-not-inc   83311   Bachelors              13   \n",
       "2   38            Private  215646     HS-grad               9   \n",
       "3   53            Private  234721        11th               7   \n",
       "4   28            Private  338409   Bachelors              13   \n",
       "\n",
       "        marital-status          occupation    relationship    race   gender  \\\n",
       "0        Never-married        Adm-clerical   Not-in-family   White     Male   \n",
       "1   Married-civ-spouse     Exec-managerial         Husband   White     Male   \n",
       "2             Divorced   Handlers-cleaners   Not-in-family   White     Male   \n",
       "3   Married-civ-spouse   Handlers-cleaners         Husband   Black     Male   \n",
       "4   Married-civ-spouse      Prof-specialty            Wife   Black   Female   \n",
       "\n",
       "   capitalgain  capitalloss  hoursperweek   nativecountry  \n",
       "0         2174            0            40   United-States  \n",
       "1            0            0            13   United-States  \n",
       "2            0            0            40   United-States  \n",
       "3            0            0            40   United-States  \n",
       "4            0            0            40            Cuba  "
      ]
     },
     "execution_count": 31,
     "metadata": {},
     "output_type": "execute_result"
    }
   ],
   "source": [
    "adult.head()"
   ]
  },
  {
   "cell_type": "markdown",
   "metadata": {},
   "source": [
    "#### Education and educationnum both represent the level of education. So we can remove one of them.\n",
    "#### fnlwgt – The number of people the census takers believe that observation represents. Remove this variable."
   ]
  },
  {
   "cell_type": "code",
   "execution_count": 32,
   "metadata": {
    "collapsed": true
   },
   "outputs": [],
   "source": [
    "del adult['education']\n",
    "del adult['fnlwgt']"
   ]
  },
  {
   "cell_type": "code",
   "execution_count": 33,
   "metadata": {},
   "outputs": [
    {
     "data": {
      "text/html": [
       "<div>\n",
       "<style scoped>\n",
       "    .dataframe tbody tr th:only-of-type {\n",
       "        vertical-align: middle;\n",
       "    }\n",
       "\n",
       "    .dataframe tbody tr th {\n",
       "        vertical-align: top;\n",
       "    }\n",
       "\n",
       "    .dataframe thead th {\n",
       "        text-align: right;\n",
       "    }\n",
       "</style>\n",
       "<table border=\"1\" class=\"dataframe\">\n",
       "  <thead>\n",
       "    <tr style=\"text-align: right;\">\n",
       "      <th></th>\n",
       "      <th>age</th>\n",
       "      <th>workclass</th>\n",
       "      <th>educationalnum</th>\n",
       "      <th>marital-status</th>\n",
       "      <th>occupation</th>\n",
       "      <th>relationship</th>\n",
       "      <th>race</th>\n",
       "      <th>gender</th>\n",
       "      <th>capitalgain</th>\n",
       "      <th>capitalloss</th>\n",
       "      <th>hoursperweek</th>\n",
       "      <th>nativecountry</th>\n",
       "    </tr>\n",
       "  </thead>\n",
       "  <tbody>\n",
       "    <tr>\n",
       "      <th>0</th>\n",
       "      <td>39</td>\n",
       "      <td>State-gov</td>\n",
       "      <td>13</td>\n",
       "      <td>Never-married</td>\n",
       "      <td>Adm-clerical</td>\n",
       "      <td>Not-in-family</td>\n",
       "      <td>White</td>\n",
       "      <td>Male</td>\n",
       "      <td>2174</td>\n",
       "      <td>0</td>\n",
       "      <td>40</td>\n",
       "      <td>United-States</td>\n",
       "    </tr>\n",
       "    <tr>\n",
       "      <th>1</th>\n",
       "      <td>50</td>\n",
       "      <td>Self-emp-not-inc</td>\n",
       "      <td>13</td>\n",
       "      <td>Married-civ-spouse</td>\n",
       "      <td>Exec-managerial</td>\n",
       "      <td>Husband</td>\n",
       "      <td>White</td>\n",
       "      <td>Male</td>\n",
       "      <td>0</td>\n",
       "      <td>0</td>\n",
       "      <td>13</td>\n",
       "      <td>United-States</td>\n",
       "    </tr>\n",
       "    <tr>\n",
       "      <th>2</th>\n",
       "      <td>38</td>\n",
       "      <td>Private</td>\n",
       "      <td>9</td>\n",
       "      <td>Divorced</td>\n",
       "      <td>Handlers-cleaners</td>\n",
       "      <td>Not-in-family</td>\n",
       "      <td>White</td>\n",
       "      <td>Male</td>\n",
       "      <td>0</td>\n",
       "      <td>0</td>\n",
       "      <td>40</td>\n",
       "      <td>United-States</td>\n",
       "    </tr>\n",
       "    <tr>\n",
       "      <th>3</th>\n",
       "      <td>53</td>\n",
       "      <td>Private</td>\n",
       "      <td>7</td>\n",
       "      <td>Married-civ-spouse</td>\n",
       "      <td>Handlers-cleaners</td>\n",
       "      <td>Husband</td>\n",
       "      <td>Black</td>\n",
       "      <td>Male</td>\n",
       "      <td>0</td>\n",
       "      <td>0</td>\n",
       "      <td>40</td>\n",
       "      <td>United-States</td>\n",
       "    </tr>\n",
       "    <tr>\n",
       "      <th>4</th>\n",
       "      <td>28</td>\n",
       "      <td>Private</td>\n",
       "      <td>13</td>\n",
       "      <td>Married-civ-spouse</td>\n",
       "      <td>Prof-specialty</td>\n",
       "      <td>Wife</td>\n",
       "      <td>Black</td>\n",
       "      <td>Female</td>\n",
       "      <td>0</td>\n",
       "      <td>0</td>\n",
       "      <td>40</td>\n",
       "      <td>Cuba</td>\n",
       "    </tr>\n",
       "  </tbody>\n",
       "</table>\n",
       "</div>"
      ],
      "text/plain": [
       "   age          workclass  educationalnum       marital-status  \\\n",
       "0   39          State-gov              13        Never-married   \n",
       "1   50   Self-emp-not-inc              13   Married-civ-spouse   \n",
       "2   38            Private               9             Divorced   \n",
       "3   53            Private               7   Married-civ-spouse   \n",
       "4   28            Private              13   Married-civ-spouse   \n",
       "\n",
       "           occupation    relationship    race   gender  capitalgain  \\\n",
       "0        Adm-clerical   Not-in-family   White     Male         2174   \n",
       "1     Exec-managerial         Husband   White     Male            0   \n",
       "2   Handlers-cleaners   Not-in-family   White     Male            0   \n",
       "3   Handlers-cleaners         Husband   Black     Male            0   \n",
       "4      Prof-specialty            Wife   Black   Female            0   \n",
       "\n",
       "   capitalloss  hoursperweek   nativecountry  \n",
       "0            0            40   United-States  \n",
       "1            0            13   United-States  \n",
       "2            0            40   United-States  \n",
       "3            0            40   United-States  \n",
       "4            0            40            Cuba  "
      ]
     },
     "execution_count": 33,
     "metadata": {},
     "output_type": "execute_result"
    }
   ],
   "source": [
    "adult.head()"
   ]
  },
  {
   "cell_type": "code",
   "execution_count": 34,
   "metadata": {
    "collapsed": true
   },
   "outputs": [],
   "source": [
    "adult = pd.get_dummies(adult, columns=['workclass','marital-status','occupation',\n",
    "                                         'relationship','race',\n",
    "                                         'gender','nativecountry'])"
   ]
  },
  {
   "cell_type": "code",
   "execution_count": 35,
   "metadata": {},
   "outputs": [
    {
     "data": {
      "text/plain": [
       "(45222, 87)"
      ]
     },
     "execution_count": 35,
     "metadata": {},
     "output_type": "execute_result"
    }
   ],
   "source": [
    "adult.shape"
   ]
  },
  {
   "cell_type": "code",
   "execution_count": 37,
   "metadata": {},
   "outputs": [
    {
     "name": "stdout",
     "output_type": "stream",
     "text": [
      "Training dataset size:  31655\n",
      "Testing dataset size:  13567\n",
      "Training label dataset size:  31655\n",
      "Testing label dataset size:  13567\n"
     ]
    }
   ],
   "source": [
    "\n",
    "# Train - Test split# Train  \n",
    "X_train, X_test, y_train, y_test = train_test_split(adult, y, test_size  = 0.3, random_state = 55)\n",
    "\n",
    "print(\"Training dataset size: \", len(X_train))\n",
    "print(\"Testing dataset size: \", len(X_test))\n",
    "print(\"Training label dataset size: \", len(y_train))\n",
    "print(\"Testing label dataset size: \", len(y_test))"
   ]
  },
  {
   "cell_type": "code",
   "execution_count": 38,
   "metadata": {
    "collapsed": true
   },
   "outputs": [],
   "source": [
    "#min_max_scaler = preprocessing.MinMaxScaler()\n",
    "#X_train = min_max_scaler.fit_transform(X_train)\n",
    "X_train = preprocessing.scale(X_train)\n",
    "X_test = preprocessing.scale(X_test)"
   ]
  },
  {
   "cell_type": "markdown",
   "metadata": {},
   "source": [
    "### Check for hyper paramters using max_depth"
   ]
  },
  {
   "cell_type": "code",
   "execution_count": 40,
   "metadata": {},
   "outputs": [
    {
     "data": {
      "image/png": "[encoded data removed]",
      "text/plain": [
       "<Figure size 432x288 with 1 Axes>"
      ]
     },
     "metadata": {
      "needs_background": "light"
     },
     "output_type": "display_data"
    },
    {
     "name": "stdout",
     "output_type": "stream",
     "text": [
      "train_scores = [0.85864002 0.86570052 0.86941242 0.87272943 0.87494078 0.87652031\n",
      " 0.87804455 0.87932398 0.88064288]\n",
      "test_scores = [0.856105   0.86299182 0.8652663  0.86605606 0.86750924 0.86810952\n",
      " 0.8683622  0.8686781  0.86855174]\n",
      "Optimal max depth =  400  Minimum Error =   0.1313219026487129\n"
     ]
    }
   ],
   "source": [
    "np.random.seed(55)\n",
    "classifier = GradientBoostingClassifier()\n",
    "\n",
    "\n",
    "estimators = np.arange(50,500,50) \n",
    "train_scores, test_scores = validation_curve( classifier, X_train, y_train, param_name=\"n_estimators\", param_range=estimators,\n",
    "    cv=5, scoring=make_scorer(accuracy_score), n_jobs=1)\n",
    "train_mean = np.mean(train_scores, axis=1)\n",
    "train_std = np.std(train_scores, axis=1)\n",
    "test_mean = np.mean(test_scores, axis=1)\n",
    "test_std = np.std(test_scores, axis=1)\n",
    "\n",
    "plt.title(\"Income Dataset - Boosting Model Complexity \\n Hyper Parameter: Maximum Number of Estimators (Figure 27)\")\n",
    "plt.xlabel(\"Number of Estimators\")\n",
    "plt.ylabel(\"Error\")\n",
    "\n",
    "\n",
    "\n",
    "lw = 2\n",
    "plt.plot(estimators, 1 - train_mean, label=\"Training Error\",\n",
    "             color=\"darkorange\", lw=lw)\n",
    "plt.plot(estimators, 1 - test_mean, label=\"Cross-validation Error\",\n",
    "             color=\"navy\", lw=lw)\n",
    "plt.legend(loc=\"best\")\n",
    "plt.show()\n",
    "\n",
    "print(\"train_scores =\", train_mean)\n",
    "print(\"test_scores =\", test_mean)\n",
    "print(\"Optimal max depth = \",  estimators[np.ndarray.argmax(test_mean)], \" Minimum Error =  \" , (1 - np.amax(test_mean))  )\n",
    "\n"
   ]
  },
  {
   "cell_type": "code",
   "execution_count": 43,
   "metadata": {},
   "outputs": [
    {
     "data": {
      "image/png": "[encoded data removed]",
      "text/plain": [
       "<Figure size 432x288 with 1 Axes>"
      ]
     },
     "metadata": {
      "needs_background": "light"
     },
     "output_type": "display_data"
    },
    {
     "name": "stdout",
     "output_type": "stream",
     "text": [
      "train_scores = [0.86556626 0.86524247 0.86543991 0.86525035 0.86497394 0.86504501\n",
      " 0.86461064 0.86457115 0.86429474]\n",
      "test_scores = [0.86277063 0.86264425 0.86179129 0.86235993 0.86217037 0.86210721\n",
      " 0.86188611 0.86163347 0.86188615]\n",
      "Optimal value =  50  Minimum Error =   0.13722936724783918\n"
     ]
    }
   ],
   "source": [
    "np.random.seed(55)\n",
    "classifier = GradientBoostingClassifier()\n",
    "estimators = np.arange(50,500,50) \n",
    "\n",
    "train_scores, test_scores = validation_curve( classifier, X_train, y_train, param_name=\"min_samples_split\", param_range=estimators,\n",
    "    cv=5, scoring=make_scorer(accuracy_score), n_jobs=1)\n",
    "train_mean = np.mean(train_scores, axis=1)\n",
    "train_std = np.std(train_scores, axis=1)\n",
    "test_mean = np.mean(test_scores, axis=1)\n",
    "test_std = np.std(test_scores, axis=1)\n",
    "\n",
    "plt.title(\"Income Dataset - Boosting Model Complexity \\n Hyper Parameter: Minimum samples to split (Figure 29)\")\n",
    "plt.xlabel(\"Minimum samples to split\")\n",
    "plt.ylabel(\"Error\")\n",
    "\n",
    "\n",
    "lw = 2\n",
    "plt.plot(estimators, 1 - train_mean, label=\"Training Error\",\n",
    "             color=\"darkorange\", lw=lw)\n",
    "plt.plot(estimators, 1 - test_mean, label=\"Cross-validation Error\",\n",
    "             color=\"navy\", lw=lw)\n",
    "plt.legend(loc=\"best\")\n",
    "plt.show()\n",
    "\n",
    "print(\"train_scores =\", train_mean)\n",
    "print(\"test_scores =\", test_mean)\n",
    "print(\"Optimal value = \",  estimators[np.ndarray.argmax(test_mean)], \" Minimum Error =  \" , (1 - np.amax(test_mean))  )\n",
    "\n",
    "\n"
   ]
  },
  {
   "cell_type": "markdown",
   "metadata": {},
   "source": [
    "### Create Learning Curve - Sample dataset size vs. Time"
   ]
  },
  {
   "cell_type": "code",
   "execution_count": 71,
   "metadata": {},
   "outputs": [
    {
     "name": "stdout",
     "output_type": "stream",
     "text": [
      "[ 0.282138  0.567672  0.816618  1.074116  1.352495  1.657613  1.914706\n",
      "  2.169381  2.525091  2.757179]\n",
      "[ 1071.332  1945.012  2699.726  3423.348  4378.141  5025.015  5768.378\n",
      "  6677.579  7116.114  8171.587]\n"
     ]
    },
    {
     "data": {
      "image/png": "[encoded data removed]",
      "text/plain": [
       "<matplotlib.figure.Figure at 0x103f28278>"
      ]
     },
     "metadata": {},
     "output_type": "display_data"
    }
   ],
   "source": [
    "np.random.seed(55)\n",
    "training_sizes = [0.1, 0.2, 0.3, 0.4, 0.5, 0.6, 0.7, 0.8, 0.9, 1.0]\n",
    "\n",
    "\n",
    "#Create timings for Training Set\n",
    "estimator = GradientBoostingClassifier()\n",
    "\n",
    "i=0\n",
    "times_train=np.zeros(10)\n",
    "    \n",
    "for sub in training_sizes:\n",
    "    msk = np.random.rand(len(X_train)) < sub\n",
    "    smaller_X_train = X_train[msk]\n",
    "    smaller_y_train = y_train[msk]\n",
    "    sub_X_train, sub_X_test, sub_y_train, sub_y_test = train_test_split(smaller_X_train, smaller_y_train, \n",
    "                                                                            test_size=0.3)\n",
    "    t_start = datetime.datetime.now()\n",
    "    estimator.fit(sub_X_train, sub_y_train)\n",
    "    estimator.predict(sub_X_test)\n",
    "    t_end = datetime.datetime.now()\n",
    "    duration = t_end - t_start\n",
    "    \n",
    "    #convert seconds to microseconds \n",
    "    #print(\"duration = \", duration)\n",
    "    times_train[i] = (duration.microseconds / 1000000) + (duration.seconds)\n",
    "    i = i + 1\n",
    "    \n",
    "print(times_train)\n",
    "\n",
    "#Create timings for Cross-validation set\n",
    "\n",
    "i=0\n",
    "times_cv=np.zeros(10)\n",
    "    \n",
    "for sub in training_sizes:\n",
    "    msk = np.random.rand(len(X_train)) < sub\n",
    "    smaller_X_train = X_train[msk]\n",
    "    smaller_y_train = y_train[msk]\n",
    "    sub_X_train, sub_X_test, sub_y_train, sub_y_test = train_test_split(smaller_X_train, smaller_y_train, \n",
    "                                                                            test_size=0.3)\n",
    "    t_start = datetime.datetime.now()\n",
    "    scores = cross_val_score(clf, sub_X_train, sub_y_train, cv = 5, scoring = make_scorer(accuracy_score))\n",
    "    t_end = datetime.datetime.now()\n",
    "    duration = t_end - t_start\n",
    "    \n",
    "    #convert seconds to microseconds \n",
    "    #print(\"duration = \", duration)\n",
    "    times_cv[i] = (duration.microseconds / 1000) + (duration.seconds * 1000)\n",
    "    i = i + 1\n",
    "\n",
    "print(times_cv)\n",
    "\n",
    "\n",
    "lw = 2\n",
    "plt.plot(training_sizes, times_train, 'o-', color=\"r\",\n",
    "             label=\"Training Time\",  lw=lw)\n",
    "plt.plot(training_sizes, times_cv, 'o-', color=\"g\",\n",
    "             label=\"Cross-validation Time\",  lw=lw)\n",
    "\n",
    "\n",
    "plt.title(\"Adult Dataset - Boosting Model Learning Rate \\n Training Dataset vs Time (Figure 23)\")\n",
    "plt.xlabel('Training Dataset Size')\n",
    "plt.ylabel('Time (in milliseconds)')\n",
    "plt.legend(loc=\"best\")\n",
    "plt.show()        \n",
    "\n",
    "\n",
    "\n"
   ]
  },
  {
   "cell_type": "code",
   "execution_count": 19,
   "metadata": {},
   "outputs": [
    {
     "data": {
      "text/plain": [
       "31655.0"
      ]
     },
     "execution_count": 19,
     "metadata": {},
     "output_type": "execute_result"
    }
   ],
   "source": [
    "(np.ndarray.argmax(test_scores_mean)  + 1 ) * 0.1 * len(X_train)"
   ]
  },
  {
   "cell_type": "markdown",
   "metadata": {},
   "source": [
    "### Create learning curve - Sample data set size vs. Error"
   ]
  },
  {
   "cell_type": "code",
   "execution_count": 44,
   "metadata": {},
   "outputs": [
    {
     "name": "stdout",
     "output_type": "stream",
     "text": [
      "\n",
      "train_scores = [0.90305478 0.8932245  0.88454248 0.88027205 0.8800337  0.87948868\n",
      " 0.87881857 0.87764907 0.8774064  0.87817403]\n",
      "test_scores = [0.85493647 0.86144394 0.86514014 0.86536098 0.86722496 0.86833053\n",
      " 0.86864661 0.86893102 0.86858349 0.86949975]\n",
      "train sizes = [ 2848  5697  8546 11395 14244 17093 19942 22791 25640 28489]\n"
     ]
    },
    {
     "data": {
      "image/png": "[encoded data removed]",
      "text/plain": [
       "<Figure size 432x288 with 1 Axes>"
      ]
     },
     "metadata": {
      "needs_background": "light"
     },
     "output_type": "display_data"
    }
   ],
   "source": [
    "np.random.seed(55)\n",
    "#Create timings for Training Set\n",
    "estimator = GradientBoostingClassifier(n_estimators = 400, min_samples_split = 50 )\n",
    "st_train_time = timeit.default_timer() \n",
    "estimator.fit(X_train, y_train)\n",
    "end_train_time = timeit.default_timer() \n",
    "\n",
    "title = \"Income Dataset - Boosting Model Learning Curve \\n (Figure 31)\"\n",
    "ylim=(0.0, 0.3)\n",
    "\n",
    "\n",
    "plt.title(title)\n",
    "if ylim is not None:\n",
    "    plt.ylim(*ylim)\n",
    "plt.xlabel(\"Training Dataset Size\")\n",
    "plt.ylabel(\"Error\")\n",
    "train_sizes, train_scores, test_scores = learning_curve(\n",
    "    estimator, X_train, y_train, cv=10, n_jobs=4, train_sizes=np.linspace(.1, 1.0, 10))\n",
    "\n",
    "\n",
    "\n",
    "train_scores_mean = np.mean(train_scores, axis=1)\n",
    "train_scores_std = np.std(train_scores, axis=1)\n",
    "test_scores_mean = np.mean(test_scores, axis=1)\n",
    "test_scores_std = np.std(test_scores, axis=1)\n",
    "#test_scores_mean1 = np.mean(test_scores1, axis=1)\n",
    "\n",
    "print(\"\")\n",
    "    \n",
    "lw = 2\n",
    "plt.plot(train_sizes, 1 - train_scores_mean, 'o-', color=\"r\",\n",
    "             label=\"Training Error\",  lw=lw)\n",
    "plt.plot(train_sizes, (1- test_scores_mean), 'o-', color=\"g\",\n",
    "             label=\"Cross-validation Error\",  lw=lw)\n",
    "\n",
    "plt.legend(loc=\"best\")\n",
    "print(\"train_scores =\", train_scores_mean)\n",
    "print(\"test_scores =\", test_scores_mean)\n",
    "print(\"train sizes =\", train_sizes)\n",
    "\n",
    "plt.show()\n",
    "\n",
    "\n"
   ]
  },
  {
   "cell_type": "markdown",
   "metadata": {},
   "source": [
    "### Predict on Testing set"
   ]
  },
  {
   "cell_type": "code",
   "execution_count": 45,
   "metadata": {},
   "outputs": [
    {
     "name": "stdout",
     "output_type": "stream",
     "text": [
      "Accuracy: 85.98805926144321%\n",
      "[[9564  591]\n",
      " [1310 2102]]\n",
      "              precision    recall  f1-score   support\n",
      "\n",
      "           y       0.88      0.94      0.91     10155\n",
      "           n       0.78      0.62      0.69      3412\n",
      "\n",
      "    accuracy                           0.86     13567\n",
      "   macro avg       0.83      0.78      0.80     13567\n",
      "weighted avg       0.85      0.86      0.85     13567\n",
      "\n",
      "AUC = 0.7789315146299185\n",
      "Prediction Time =  0.11027449999892269\n",
      "Training Time =  22.388634799999636\n"
     ]
    }
   ],
   "source": [
    "st_pred_time = timeit.default_timer() \n",
    "y_pred = estimator.predict(X_test)\n",
    "end_pred_time = timeit.default_timer() \n",
    "\n",
    "pred_time = end_pred_time - st_pred_time\n",
    "\n",
    "print(\"Accuracy: %s%%\" % (100*accuracy_score(y_test, y_pred)))\n",
    "print(confusion_matrix(y_test, y_pred))\n",
    "\n",
    "print(classification_report(y_test, y_pred, target_names=['y', 'n']))\n",
    "print(\"AUC =\", roc_auc_score(y_test, y_pred))\n",
    "print(\"Prediction Time = \", pred_time)\n",
    "print(\"Training Time = \", end_train_time - st_train_time)\n"
   ]
  },
  {
   "cell_type": "code",
   "execution_count": null,
   "metadata": {
    "collapsed": true
   },
   "outputs": [],
   "source": [
    "estimator.n_features_"
   ]
  }
 ],
 "metadata": {
  "kernelspec": {
   "display_name": "Python 3",
   "language": "python",
   "name": "python3"
  },
  "language_info": {
   "codemirror_mode": {
    "name": "ipython",
    "version": 3
   },
   "file_extension": ".py",
   "mimetype": "text/x-python",
   "name": "python",
   "nbconvert_exporter": "python",
   "pygments_lexer": "ipython3",
   "version": "3.6.3"
  }
 },
 "nbformat": 4,
 "nbformat_minor": 2
}
