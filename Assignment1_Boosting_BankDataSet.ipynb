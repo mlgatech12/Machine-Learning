{
 "cells": [
  {
   "cell_type": "code",
   "execution_count": 1,
   "metadata": {
    "collapsed": true
   },
   "outputs": [],
   "source": [
    "import pandas as pd\n",
    "import numpy as np\n",
    "from sklearn.tree import DecisionTreeClassifier\n",
    "#from xgboost.sklearn import XGBClassifier\n",
    "from sklearn.ensemble import GradientBoostingClassifier\n",
    "from sklearn.model_selection import learning_curve\n",
    "from sklearn import tree, metrics\n",
    "from matplotlib import pyplot as plt\n",
    "from sklearn.model_selection import train_test_split\n",
    "from sklearn.model_selection import StratifiedKFold\n",
    "from sklearn.metrics import make_scorer, accuracy_score, confusion_matrix, classification_report, roc_auc_score\n",
    "from sklearn.model_selection import  cross_val_score\n",
    "from sklearn import model_selection\n",
    "from sklearn.model_selection import GridSearchCV\n",
    "from time import time\n",
    "from operator import itemgetter\n",
    "from sklearn.model_selection import validation_curve\n",
    "import datetime\n",
    "\n",
    "import sklearn.preprocessing as preprocessing\n",
    "from sklearn.model_selection import learning_curve\n",
    "from sklearn.model_selection import ShuffleSplit\n",
    "\n",
    "#import graphviz \n",
    "import timeit\n",
    "import os\n",
    "from IPython.display import Image"
   ]
  },
  {
   "cell_type": "code",
   "execution_count": 2,
   "metadata": {},
   "outputs": [
    {
     "data": {
      "text/plain": [
       "45211"
      ]
     },
     "execution_count": 2,
     "metadata": {},
     "output_type": "execute_result"
    }
   ],
   "source": [
    "bank_data = pd.read_csv('bank-full.csv', delimiter = \";\", header=\"infer\")\n",
    "len(bank_data)"
   ]
  },
  {
   "cell_type": "code",
   "execution_count": 3,
   "metadata": {},
   "outputs": [
    {
     "data": {
      "text/plain": [
       "(45211, 17)"
      ]
     },
     "execution_count": 3,
     "metadata": {},
     "output_type": "execute_result"
    }
   ],
   "source": [
    "bank_data.shape"
   ]
  },
  {
   "cell_type": "code",
   "execution_count": 4,
   "metadata": {},
   "outputs": [
    {
     "data": {
      "text/html": [
       "<div>\n",
       "<style scoped>\n",
       "    .dataframe tbody tr th:only-of-type {\n",
       "        vertical-align: middle;\n",
       "    }\n",
       "\n",
       "    .dataframe tbody tr th {\n",
       "        vertical-align: top;\n",
       "    }\n",
       "\n",
       "    .dataframe thead th {\n",
       "        text-align: right;\n",
       "    }\n",
       "</style>\n",
       "<table border=\"1\" class=\"dataframe\">\n",
       "  <thead>\n",
       "    <tr style=\"text-align: right;\">\n",
       "      <th></th>\n",
       "      <th>age</th>\n",
       "      <th>job</th>\n",
       "      <th>marital</th>\n",
       "      <th>education</th>\n",
       "      <th>default</th>\n",
       "      <th>balance</th>\n",
       "      <th>housing</th>\n",
       "      <th>loan</th>\n",
       "      <th>contact</th>\n",
       "      <th>day</th>\n",
       "      <th>month</th>\n",
       "      <th>duration</th>\n",
       "      <th>campaign</th>\n",
       "      <th>pdays</th>\n",
       "      <th>previous</th>\n",
       "      <th>poutcome</th>\n",
       "      <th>y</th>\n",
       "    </tr>\n",
       "  </thead>\n",
       "  <tbody>\n",
       "    <tr>\n",
       "      <th>0</th>\n",
       "      <td>58</td>\n",
       "      <td>management</td>\n",
       "      <td>married</td>\n",
       "      <td>tertiary</td>\n",
       "      <td>no</td>\n",
       "      <td>2143</td>\n",
       "      <td>yes</td>\n",
       "      <td>no</td>\n",
       "      <td>unknown</td>\n",
       "      <td>5</td>\n",
       "      <td>may</td>\n",
       "      <td>261</td>\n",
       "      <td>1</td>\n",
       "      <td>-1</td>\n",
       "      <td>0</td>\n",
       "      <td>unknown</td>\n",
       "      <td>no</td>\n",
       "    </tr>\n",
       "    <tr>\n",
       "      <th>1</th>\n",
       "      <td>44</td>\n",
       "      <td>technician</td>\n",
       "      <td>single</td>\n",
       "      <td>secondary</td>\n",
       "      <td>no</td>\n",
       "      <td>29</td>\n",
       "      <td>yes</td>\n",
       "      <td>no</td>\n",
       "      <td>unknown</td>\n",
       "      <td>5</td>\n",
       "      <td>may</td>\n",
       "      <td>151</td>\n",
       "      <td>1</td>\n",
       "      <td>-1</td>\n",
       "      <td>0</td>\n",
       "      <td>unknown</td>\n",
       "      <td>no</td>\n",
       "    </tr>\n",
       "    <tr>\n",
       "      <th>2</th>\n",
       "      <td>33</td>\n",
       "      <td>entrepreneur</td>\n",
       "      <td>married</td>\n",
       "      <td>secondary</td>\n",
       "      <td>no</td>\n",
       "      <td>2</td>\n",
       "      <td>yes</td>\n",
       "      <td>yes</td>\n",
       "      <td>unknown</td>\n",
       "      <td>5</td>\n",
       "      <td>may</td>\n",
       "      <td>76</td>\n",
       "      <td>1</td>\n",
       "      <td>-1</td>\n",
       "      <td>0</td>\n",
       "      <td>unknown</td>\n",
       "      <td>no</td>\n",
       "    </tr>\n",
       "    <tr>\n",
       "      <th>3</th>\n",
       "      <td>47</td>\n",
       "      <td>blue-collar</td>\n",
       "      <td>married</td>\n",
       "      <td>unknown</td>\n",
       "      <td>no</td>\n",
       "      <td>1506</td>\n",
       "      <td>yes</td>\n",
       "      <td>no</td>\n",
       "      <td>unknown</td>\n",
       "      <td>5</td>\n",
       "      <td>may</td>\n",
       "      <td>92</td>\n",
       "      <td>1</td>\n",
       "      <td>-1</td>\n",
       "      <td>0</td>\n",
       "      <td>unknown</td>\n",
       "      <td>no</td>\n",
       "    </tr>\n",
       "    <tr>\n",
       "      <th>4</th>\n",
       "      <td>33</td>\n",
       "      <td>unknown</td>\n",
       "      <td>single</td>\n",
       "      <td>unknown</td>\n",
       "      <td>no</td>\n",
       "      <td>1</td>\n",
       "      <td>no</td>\n",
       "      <td>no</td>\n",
       "      <td>unknown</td>\n",
       "      <td>5</td>\n",
       "      <td>may</td>\n",
       "      <td>198</td>\n",
       "      <td>1</td>\n",
       "      <td>-1</td>\n",
       "      <td>0</td>\n",
       "      <td>unknown</td>\n",
       "      <td>no</td>\n",
       "    </tr>\n",
       "  </tbody>\n",
       "</table>\n",
       "</div>"
      ],
      "text/plain": [
       "   age           job  marital  education default  balance housing loan  \\\n",
       "0   58    management  married   tertiary      no     2143     yes   no   \n",
       "1   44    technician   single  secondary      no       29     yes   no   \n",
       "2   33  entrepreneur  married  secondary      no        2     yes  yes   \n",
       "3   47   blue-collar  married    unknown      no     1506     yes   no   \n",
       "4   33       unknown   single    unknown      no        1      no   no   \n",
       "\n",
       "   contact  day month  duration  campaign  pdays  previous poutcome   y  \n",
       "0  unknown    5   may       261         1     -1         0  unknown  no  \n",
       "1  unknown    5   may       151         1     -1         0  unknown  no  \n",
       "2  unknown    5   may        76         1     -1         0  unknown  no  \n",
       "3  unknown    5   may        92         1     -1         0  unknown  no  \n",
       "4  unknown    5   may       198         1     -1         0  unknown  no  "
      ]
     },
     "execution_count": 4,
     "metadata": {},
     "output_type": "execute_result"
    }
   ],
   "source": [
    "bank_data.head()"
   ]
  },
  {
   "cell_type": "markdown",
   "metadata": {},
   "source": [
    "### Change data format"
   ]
  },
  {
   "cell_type": "code",
   "execution_count": 5,
   "metadata": {
    "collapsed": true
   },
   "outputs": [],
   "source": [
    "bank_data = pd.get_dummies(bank_data, columns=['job','marital',\n",
    "                                         'education','default',\n",
    "                                         'housing','loan',\n",
    "                                         'contact','month',\n",
    "                                         'poutcome'])"
   ]
  },
  {
   "cell_type": "code",
   "execution_count": 6,
   "metadata": {
    "collapsed": true
   },
   "outputs": [],
   "source": [
    "bank_data.y.replace(('yes','no'), (1,0), inplace = True)\n"
   ]
  },
  {
   "cell_type": "code",
   "execution_count": 7,
   "metadata": {},
   "outputs": [
    {
     "data": {
      "text/plain": [
       "array([0, 1], dtype=int64)"
      ]
     },
     "execution_count": 7,
     "metadata": {},
     "output_type": "execute_result"
    }
   ],
   "source": [
    "bank_data.y.unique()"
   ]
  },
  {
   "cell_type": "code",
   "execution_count": 8,
   "metadata": {},
   "outputs": [
    {
     "data": {
      "text/plain": [
       "(45211, 52)"
      ]
     },
     "execution_count": 8,
     "metadata": {},
     "output_type": "execute_result"
    }
   ],
   "source": [
    "bank_data.shape"
   ]
  },
  {
   "cell_type": "code",
   "execution_count": 9,
   "metadata": {
    "collapsed": true
   },
   "outputs": [],
   "source": [
    "y = bank_data['y']\n",
    "del bank_data['y']"
   ]
  },
  {
   "cell_type": "code",
   "execution_count": 10,
   "metadata": {},
   "outputs": [
    {
     "data": {
      "text/html": [
       "<div>\n",
       "<style scoped>\n",
       "    .dataframe tbody tr th:only-of-type {\n",
       "        vertical-align: middle;\n",
       "    }\n",
       "\n",
       "    .dataframe tbody tr th {\n",
       "        vertical-align: top;\n",
       "    }\n",
       "\n",
       "    .dataframe thead th {\n",
       "        text-align: right;\n",
       "    }\n",
       "</style>\n",
       "<table border=\"1\" class=\"dataframe\">\n",
       "  <thead>\n",
       "    <tr style=\"text-align: right;\">\n",
       "      <th></th>\n",
       "      <th>age</th>\n",
       "      <th>balance</th>\n",
       "      <th>day</th>\n",
       "      <th>duration</th>\n",
       "      <th>campaign</th>\n",
       "      <th>pdays</th>\n",
       "      <th>previous</th>\n",
       "      <th>job_admin.</th>\n",
       "      <th>job_blue-collar</th>\n",
       "      <th>job_entrepreneur</th>\n",
       "      <th>...</th>\n",
       "      <th>month_jun</th>\n",
       "      <th>month_mar</th>\n",
       "      <th>month_may</th>\n",
       "      <th>month_nov</th>\n",
       "      <th>month_oct</th>\n",
       "      <th>month_sep</th>\n",
       "      <th>poutcome_failure</th>\n",
       "      <th>poutcome_other</th>\n",
       "      <th>poutcome_success</th>\n",
       "      <th>poutcome_unknown</th>\n",
       "    </tr>\n",
       "  </thead>\n",
       "  <tbody>\n",
       "    <tr>\n",
       "      <th>0</th>\n",
       "      <td>58</td>\n",
       "      <td>2143</td>\n",
       "      <td>5</td>\n",
       "      <td>261</td>\n",
       "      <td>1</td>\n",
       "      <td>-1</td>\n",
       "      <td>0</td>\n",
       "      <td>0</td>\n",
       "      <td>0</td>\n",
       "      <td>0</td>\n",
       "      <td>...</td>\n",
       "      <td>0</td>\n",
       "      <td>0</td>\n",
       "      <td>1</td>\n",
       "      <td>0</td>\n",
       "      <td>0</td>\n",
       "      <td>0</td>\n",
       "      <td>0</td>\n",
       "      <td>0</td>\n",
       "      <td>0</td>\n",
       "      <td>1</td>\n",
       "    </tr>\n",
       "    <tr>\n",
       "      <th>1</th>\n",
       "      <td>44</td>\n",
       "      <td>29</td>\n",
       "      <td>5</td>\n",
       "      <td>151</td>\n",
       "      <td>1</td>\n",
       "      <td>-1</td>\n",
       "      <td>0</td>\n",
       "      <td>0</td>\n",
       "      <td>0</td>\n",
       "      <td>0</td>\n",
       "      <td>...</td>\n",
       "      <td>0</td>\n",
       "      <td>0</td>\n",
       "      <td>1</td>\n",
       "      <td>0</td>\n",
       "      <td>0</td>\n",
       "      <td>0</td>\n",
       "      <td>0</td>\n",
       "      <td>0</td>\n",
       "      <td>0</td>\n",
       "      <td>1</td>\n",
       "    </tr>\n",
       "    <tr>\n",
       "      <th>2</th>\n",
       "      <td>33</td>\n",
       "      <td>2</td>\n",
       "      <td>5</td>\n",
       "      <td>76</td>\n",
       "      <td>1</td>\n",
       "      <td>-1</td>\n",
       "      <td>0</td>\n",
       "      <td>0</td>\n",
       "      <td>0</td>\n",
       "      <td>1</td>\n",
       "      <td>...</td>\n",
       "      <td>0</td>\n",
       "      <td>0</td>\n",
       "      <td>1</td>\n",
       "      <td>0</td>\n",
       "      <td>0</td>\n",
       "      <td>0</td>\n",
       "      <td>0</td>\n",
       "      <td>0</td>\n",
       "      <td>0</td>\n",
       "      <td>1</td>\n",
       "    </tr>\n",
       "    <tr>\n",
       "      <th>3</th>\n",
       "      <td>47</td>\n",
       "      <td>1506</td>\n",
       "      <td>5</td>\n",
       "      <td>92</td>\n",
       "      <td>1</td>\n",
       "      <td>-1</td>\n",
       "      <td>0</td>\n",
       "      <td>0</td>\n",
       "      <td>1</td>\n",
       "      <td>0</td>\n",
       "      <td>...</td>\n",
       "      <td>0</td>\n",
       "      <td>0</td>\n",
       "      <td>1</td>\n",
       "      <td>0</td>\n",
       "      <td>0</td>\n",
       "      <td>0</td>\n",
       "      <td>0</td>\n",
       "      <td>0</td>\n",
       "      <td>0</td>\n",
       "      <td>1</td>\n",
       "    </tr>\n",
       "    <tr>\n",
       "      <th>4</th>\n",
       "      <td>33</td>\n",
       "      <td>1</td>\n",
       "      <td>5</td>\n",
       "      <td>198</td>\n",
       "      <td>1</td>\n",
       "      <td>-1</td>\n",
       "      <td>0</td>\n",
       "      <td>0</td>\n",
       "      <td>0</td>\n",
       "      <td>0</td>\n",
       "      <td>...</td>\n",
       "      <td>0</td>\n",
       "      <td>0</td>\n",
       "      <td>1</td>\n",
       "      <td>0</td>\n",
       "      <td>0</td>\n",
       "      <td>0</td>\n",
       "      <td>0</td>\n",
       "      <td>0</td>\n",
       "      <td>0</td>\n",
       "      <td>1</td>\n",
       "    </tr>\n",
       "  </tbody>\n",
       "</table>\n",
       "<p>5 rows × 51 columns</p>\n",
       "</div>"
      ],
      "text/plain": [
       "   age  balance  day  duration  campaign  pdays  previous  job_admin.  \\\n",
       "0   58     2143    5       261         1     -1         0           0   \n",
       "1   44       29    5       151         1     -1         0           0   \n",
       "2   33        2    5        76         1     -1         0           0   \n",
       "3   47     1506    5        92         1     -1         0           0   \n",
       "4   33        1    5       198         1     -1         0           0   \n",
       "\n",
       "   job_blue-collar  job_entrepreneur  ...  month_jun  month_mar  month_may  \\\n",
       "0                0                 0  ...          0          0          1   \n",
       "1                0                 0  ...          0          0          1   \n",
       "2                0                 1  ...          0          0          1   \n",
       "3                1                 0  ...          0          0          1   \n",
       "4                0                 0  ...          0          0          1   \n",
       "\n",
       "   month_nov  month_oct  month_sep  poutcome_failure  poutcome_other  \\\n",
       "0          0          0          0                 0               0   \n",
       "1          0          0          0                 0               0   \n",
       "2          0          0          0                 0               0   \n",
       "3          0          0          0                 0               0   \n",
       "4          0          0          0                 0               0   \n",
       "\n",
       "   poutcome_success  poutcome_unknown  \n",
       "0                 0                 1  \n",
       "1                 0                 1  \n",
       "2                 0                 1  \n",
       "3                 0                 1  \n",
       "4                 0                 1  \n",
       "\n",
       "[5 rows x 51 columns]"
      ]
     },
     "execution_count": 10,
     "metadata": {},
     "output_type": "execute_result"
    }
   ],
   "source": [
    "bank_data.head()"
   ]
  },
  {
   "cell_type": "code",
   "execution_count": 11,
   "metadata": {},
   "outputs": [
    {
     "name": "stdout",
     "output_type": "stream",
     "text": [
      "Training dataset size:  31647\n",
      "Testing dataset size:  13564\n",
      "Training label dataset size:  31647\n",
      "Testing label dataset size:  13564\n"
     ]
    }
   ],
   "source": [
    "\n",
    "# Train - Test split# Train  \n",
    "X_train, X_test, y_train, y_test = train_test_split(bank_data, y, test_size  = 0.3, random_state = 55)\n",
    "\n",
    "print(\"Training dataset size: \", len(X_train))\n",
    "print(\"Testing dataset size: \", len(X_test))\n",
    "print(\"Training label dataset size: \", len(y_train))\n",
    "print(\"Testing label dataset size: \", len(y_test))"
   ]
  },
  {
   "cell_type": "code",
   "execution_count": 12,
   "metadata": {
    "collapsed": true
   },
   "outputs": [],
   "source": [
    "#min_max_scaler = preprocessing.MinMaxScaler()\n",
    "#X_train = min_max_scaler.fit_transform(X_train)\n",
    "X_train = preprocessing.scale(X_train)\n",
    "X_test = preprocessing.scale(X_test)"
   ]
  },
  {
   "cell_type": "markdown",
   "metadata": {},
   "source": [
    "### Using validation curve find the best max_depth"
   ]
  },
  {
   "cell_type": "code",
   "execution_count": 13,
   "metadata": {},
   "outputs": [
    {
     "data": {
      "image/png": "[encoded data removed]",
      "text/plain": [
       "<Figure size 432x288 with 1 Axes>"
      ]
     },
     "metadata": {
      "needs_background": "light"
     },
     "output_type": "display_data"
    },
    {
     "name": "stdout",
     "output_type": "stream",
     "text": [
      "train_scores = [0.90796915 0.91326982 0.91680886 0.92000031 0.92278099 0.92513509\n",
      " 0.92747338 0.92951149 0.9314706 ]\n",
      "test_scores = [0.90315029 0.90618375 0.90754243 0.90820606 0.90849047 0.90864845\n",
      " 0.90874327 0.90868006 0.90886965]\n",
      "Optimal max depth =  450  Minimum Error =   0.0911303493510276\n"
     ]
    }
   ],
   "source": [
    "np.random.seed(55)\n",
    "classifier = GradientBoostingClassifier()\n",
    "\n",
    "\n",
    "estimators = np.arange(50,500,50) \n",
    "train_scores, test_scores = validation_curve( classifier, X_train, y_train, param_name=\"n_estimators\", param_range=estimators,\n",
    "    cv=5, scoring=make_scorer(accuracy_score), n_jobs=1)\n",
    "train_mean = np.mean(train_scores, axis=1)\n",
    "train_std = np.std(train_scores, axis=1)\n",
    "test_mean = np.mean(test_scores, axis=1)\n",
    "test_std = np.std(test_scores, axis=1)\n",
    "\n",
    "plt.title(\"Marketing Dataset - Boosting Model Complexity \\n Hyper Parameter: Maximum Number of Estimators (Figure 28)\")\n",
    "plt.xlabel(\"Number of Estimators\")\n",
    "plt.ylabel(\"Error\")\n",
    "\n",
    "\n",
    "\n",
    "lw = 2\n",
    "plt.plot(estimators, 1 - train_mean, label=\"Training Error\",\n",
    "             color=\"darkorange\", lw=lw)\n",
    "plt.plot(estimators, 1 - test_mean, label=\"Cross-validation Error\",\n",
    "             color=\"navy\", lw=lw)\n",
    "plt.legend(loc=\"best\")\n",
    "plt.show()\n",
    "\n",
    "print(\"train_scores =\", train_mean)\n",
    "print(\"test_scores =\", test_mean)\n",
    "print(\"Optimal max depth = \",  estimators[np.ndarray.argmax(test_mean)], \" Minimum Error =  \" , (1 - np.amax(test_mean))  )\n",
    "\n",
    "\n",
    "\n",
    "\n",
    "\n"
   ]
  },
  {
   "cell_type": "code",
   "execution_count": 14,
   "metadata": {},
   "outputs": [
    {
     "data": {
      "image/png": "[encoded data removed]",
      "text/plain": [
       "<Figure size 432x288 with 1 Axes>"
      ]
     },
     "metadata": {
      "needs_background": "light"
     },
     "output_type": "display_data"
    },
    {
     "name": "stdout",
     "output_type": "stream",
     "text": [
      "train_scores = [0.91325402 0.91285113 0.91236926 0.91230606 0.91233766 0.91173729\n",
      " 0.91131071 0.91113692 0.91097892 0.91063923]\n",
      "test_scores = [0.90577295 0.90618376 0.90608897 0.90612054 0.90561495 0.90529896\n",
      " 0.90615212 0.90548851 0.90564653 0.90536213]\n",
      "Optimal value =  60  Minimum Error =   0.0938162379497871\n"
     ]
    }
   ],
   "source": [
    "np.random.seed(55)\n",
    "classifier = GradientBoostingClassifier()\n",
    "estimators = np.arange(10,500,50) \n",
    "\n",
    "train_scores, test_scores = validation_curve( classifier, X_train, y_train, param_name=\"min_samples_split\", param_range=estimators,\n",
    "    cv=5, scoring=make_scorer(accuracy_score), n_jobs=1)\n",
    "train_mean = np.mean(train_scores, axis=1)\n",
    "train_std = np.std(train_scores, axis=1)\n",
    "test_mean = np.mean(test_scores, axis=1)\n",
    "test_std = np.std(test_scores, axis=1)\n",
    "\n",
    "plt.title(\"Marketing Dataset - Boosting Model Complexity \\n Hyper Parameter: Minimum samples to split (Figure 30)\")\n",
    "plt.xlabel(\"Minimum samples to split\")\n",
    "plt.ylabel(\"Error\")\n",
    "\n",
    "\n",
    "lw = 2\n",
    "plt.plot(estimators, 1 - train_mean, label=\"Training Error\",\n",
    "             color=\"darkorange\", lw=lw)\n",
    "plt.plot(estimators, 1 - test_mean, label=\"Cross-validation Error\",\n",
    "             color=\"navy\", lw=lw)\n",
    "plt.legend(loc=\"best\")\n",
    "plt.show()\n",
    "\n",
    "print(\"train_scores =\", train_mean)\n",
    "print(\"test_scores =\", test_mean)\n",
    "print(\"Optimal value = \",  estimators[np.ndarray.argmax(test_mean)], \" Minimum Error =  \" , (1 - np.amax(test_mean))  )\n"
   ]
  },
  {
   "cell_type": "markdown",
   "metadata": {},
   "source": [
    "### Create learning curve"
   ]
  },
  {
   "cell_type": "code",
   "execution_count": 15,
   "metadata": {},
   "outputs": [
    {
     "name": "stdout",
     "output_type": "stream",
     "text": [
      "\n",
      "train_scores = [0.97503511 0.95828652 0.94853699 0.93992275 0.9364862  0.93396922\n",
      " 0.93208106 0.93102041 0.92922795 0.92734007]\n",
      "test_scores = [0.90052751 0.90305566 0.90659445 0.90668949 0.90710029 0.90713203\n",
      " 0.90924915 0.90928064 0.90934377 0.90934372]\n",
      "train sizes = [ 2848  5696  8544 11392 14241 17089 19937 22785 25633 28482]\n"
     ]
    },
    {
     "data": {
      "image/png": "[encoded data removed]",
      "text/plain": [
       "<Figure size 432x288 with 1 Axes>"
      ]
     },
     "metadata": {
      "needs_background": "light"
     },
     "output_type": "display_data"
    }
   ],
   "source": [
    "np.random.seed(55)\n",
    "#Create timings for Training Set\n",
    "estimator = GradientBoostingClassifier(n_estimators = 450, min_samples_split = 60 )\n",
    "st_train_time = timeit.default_timer() \n",
    "estimator.fit(X_train, y_train)\n",
    "end_train_time = timeit.default_timer() \n",
    "\n",
    "title = \"Marketing Dataset - Boosting Model Learning Curve \\n (Figure 32)\"\n",
    "ylim=(0.0, 0.3)\n",
    "\n",
    "\n",
    "plt.title(title)\n",
    "if ylim is not None:\n",
    "    plt.ylim(*ylim)\n",
    "plt.xlabel(\"Training Dataset Size\")\n",
    "plt.ylabel(\"Error\")\n",
    "train_sizes, train_scores, test_scores = learning_curve(\n",
    "    estimator, X_train, y_train, cv=10, n_jobs=4, train_sizes=np.linspace(.1, 1.0, 10))\n",
    "\n",
    "\n",
    "\n",
    "train_scores_mean = np.mean(train_scores, axis=1)\n",
    "train_scores_std = np.std(train_scores, axis=1)\n",
    "test_scores_mean = np.mean(test_scores, axis=1)\n",
    "test_scores_std = np.std(test_scores, axis=1)\n",
    "#test_scores_mean1 = np.mean(test_scores1, axis=1)\n",
    "\n",
    "print(\"\")\n",
    "    \n",
    "lw = 2\n",
    "plt.plot(train_sizes, 1 - train_scores_mean, 'o-', color=\"r\",\n",
    "             label=\"Training Error\",  lw=lw)\n",
    "plt.plot(train_sizes, (1- test_scores_mean), 'o-', color=\"g\",\n",
    "             label=\"Cross-validation Error\",  lw=lw)\n",
    "\n",
    "plt.legend(loc=\"best\")\n",
    "print(\"train_scores =\", train_scores_mean)\n",
    "print(\"test_scores =\", test_scores_mean)\n",
    "print(\"train sizes =\", train_sizes)\n",
    "\n",
    "plt.show()\n"
   ]
  },
  {
   "cell_type": "markdown",
   "metadata": {},
   "source": [
    "### Predict on Testing set"
   ]
  },
  {
   "cell_type": "code",
   "execution_count": 16,
   "metadata": {},
   "outputs": [
    {
     "name": "stdout",
     "output_type": "stream",
     "text": [
      "Accuracy: 91.01297552344441%\n",
      "[[11582   400]\n",
      " [  819   763]]\n",
      "              precision    recall  f1-score   support\n",
      "\n",
      "           y       0.93      0.97      0.95     11982\n",
      "           n       0.66      0.48      0.56      1582\n",
      "\n",
      "    accuracy                           0.91     13564\n",
      "   macro avg       0.80      0.72      0.75     13564\n",
      "weighted avg       0.90      0.91      0.90     13564\n",
      "\n",
      "AUC = 0.724458738254875\n",
      "Prediction Time =  0.07237189999978\n",
      "Training Time =  18.170847600000343\n"
     ]
    }
   ],
   "source": [
    "st_pred_time = timeit.default_timer() \n",
    "y_pred = estimator.predict(X_test)\n",
    "end_pred_time = timeit.default_timer() \n",
    "\n",
    "pred_time = end_pred_time - st_pred_time\n",
    "\n",
    "print(\"Accuracy: %s%%\" % (100*accuracy_score(y_test, y_pred)))\n",
    "print(confusion_matrix(y_test, y_pred))\n",
    "\n",
    "print(classification_report(y_test, y_pred, target_names=['y', 'n']))\n",
    "print(\"AUC =\", roc_auc_score(y_test, y_pred))\n",
    "print(\"Prediction Time = \", pred_time)\n",
    "print(\"Training Time = \", end_train_time - st_train_time)\n"
   ]
  },
  {
   "cell_type": "code",
   "execution_count": null,
   "metadata": {
    "collapsed": true
   },
   "outputs": [],
   "source": [
    "estimator.n_features_"
   ]
  }
 ],
 "metadata": {
  "kernelspec": {
   "display_name": "Python 3",
   "language": "python",
   "name": "python3"
  },
  "language_info": {
   "codemirror_mode": {
    "name": "ipython",
    "version": 3
   },
   "file_extension": ".py",
   "mimetype": "text/x-python",
   "name": "python",
   "nbconvert_exporter": "python",
   "pygments_lexer": "ipython3",
   "version": "3.6.3"
  }
 },
 "nbformat": 4,
 "nbformat_minor": 2
}
