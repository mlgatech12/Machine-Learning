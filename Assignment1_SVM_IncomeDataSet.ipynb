{
 "cells": [
  {
   "cell_type": "code",
   "execution_count": 30,
   "metadata": {
    "collapsed": true
   },
   "outputs": [],
   "source": [
    "import pandas as pd\n",
    "import numpy as np\n",
    "from sklearn.svm import SVC\n",
    "from sklearn.model_selection import learning_curve\n",
    "from sklearn import tree, metrics\n",
    "from matplotlib import pyplot as plt\n",
    "from sklearn.model_selection import train_test_split, StratifiedKFold\n",
    "from sklearn.metrics import make_scorer, accuracy_score, confusion_matrix, classification_report, roc_auc_score\n",
    "from sklearn.model_selection import  cross_val_score, cross_validate\n",
    "from sklearn import model_selection\n",
    "from sklearn.model_selection import GridSearchCV\n",
    "from time import time\n",
    "from operator import itemgetter\n",
    "from sklearn.model_selection import validation_curve\n",
    "import datetime\n",
    "\n",
    "import sklearn.preprocessing as preprocessing\n",
    "from sklearn.model_selection import learning_curve\n",
    "from sklearn.model_selection import ShuffleSplit\n",
    "\n",
    "#import graphviz \n",
    "import timeit\n",
    "import os\n",
    "from IPython.display import Image"
   ]
  },
  {
   "cell_type": "code",
   "execution_count": 2,
   "metadata": {},
   "outputs": [
    {
     "data": {
      "text/plain": [
       "48842"
      ]
     },
     "execution_count": 2,
     "metadata": {},
     "output_type": "execute_result"
    }
   ],
   "source": [
    "columns = ['age', 'workclass', 'fnlwgt', 'education', 'educationalnum','marital-status', 'occupation', 'relationship', 'race', 'gender','capitalgain', 'capitalloss', 'hoursperweek', 'nativecountry','income']\n",
    "\n",
    "train = pd.read_csv('adult.csv', header=None, names = columns)\n",
    "test = pd.read_csv('adult_test.csv',  header=None, names = columns)\n",
    "\n",
    "adult = pd.concat([train,test])\n",
    "\n",
    "len(adult)"
   ]
  },
  {
   "cell_type": "code",
   "execution_count": 3,
   "metadata": {},
   "outputs": [
    {
     "data": {
      "text/plain": [
       "Index(['age', 'workclass', 'fnlwgt', 'education', 'educationalnum',\n",
       "       'marital-status', 'occupation', 'relationship', 'race', 'gender',\n",
       "       'capitalgain', 'capitalloss', 'hoursperweek', 'nativecountry',\n",
       "       'income'],\n",
       "      dtype='object')"
      ]
     },
     "execution_count": 3,
     "metadata": {},
     "output_type": "execute_result"
    }
   ],
   "source": [
    "adult.columns"
   ]
  },
  {
   "cell_type": "code",
   "execution_count": 4,
   "metadata": {},
   "outputs": [
    {
     "data": {
      "text/plain": [
       "array([' United-States', ' Cuba', ' Jamaica', ' India', ' ?', ' Mexico',\n",
       "       ' South', ' Puerto-Rico', ' Honduras', ' England', ' Canada',\n",
       "       ' Germany', ' Iran', ' Philippines', ' Italy', ' Poland',\n",
       "       ' Columbia', ' Cambodia', ' Thailand', ' Ecuador', ' Laos',\n",
       "       ' Taiwan', ' Haiti', ' Portugal', ' Dominican-Republic',\n",
       "       ' El-Salvador', ' France', ' Guatemala', ' China', ' Japan',\n",
       "       ' Yugoslavia', ' Peru', ' Outlying-US(Guam-USVI-etc)', ' Scotland',\n",
       "       ' Trinadad&Tobago', ' Greece', ' Nicaragua', ' Vietnam', ' Hong',\n",
       "       ' Ireland', ' Hungary', ' Holand-Netherlands'], dtype=object)"
      ]
     },
     "execution_count": 4,
     "metadata": {},
     "output_type": "execute_result"
    }
   ],
   "source": [
    "adult['nativecountry'].unique()"
   ]
  },
  {
   "cell_type": "code",
   "execution_count": 5,
   "metadata": {},
   "outputs": [
    {
     "name": "stdout",
     "output_type": "stream",
     "text": [
      "Before dropping size =  48842\n",
      "After removing rows with value ? 45222\n"
     ]
    }
   ],
   "source": [
    "print(\"Before dropping size = \" , len(adult))\n",
    "\n",
    "adult = adult[adult.occupation.str.strip() != '?']\n",
    "adult = adult[adult.workclass.str.strip() != '?']\n",
    "adult = adult[adult.nativecountry.str.strip() != '?']\n",
    "\n",
    "print(\"After removing rows with value ?\" , len(adult))\n"
   ]
  },
  {
   "cell_type": "code",
   "execution_count": 6,
   "metadata": {
    "collapsed": true
   },
   "outputs": [],
   "source": [
    "def func(x):\n",
    "    if(x == \" <=50K\" or x == \" <=50K.\"):\n",
    "        return 0\n",
    "    elif(x == \" >50K\" or x == ' >50K.'):\n",
    "        return 1\n",
    "adult['income'] = adult['income'].apply(func)\n",
    "\n",
    "y = adult['income']\n",
    "del adult['income']"
   ]
  },
  {
   "cell_type": "code",
   "execution_count": 7,
   "metadata": {},
   "outputs": [
    {
     "data": {
      "text/html": [
       "<div>\n",
       "<style scoped>\n",
       "    .dataframe tbody tr th:only-of-type {\n",
       "        vertical-align: middle;\n",
       "    }\n",
       "\n",
       "    .dataframe tbody tr th {\n",
       "        vertical-align: top;\n",
       "    }\n",
       "\n",
       "    .dataframe thead th {\n",
       "        text-align: right;\n",
       "    }\n",
       "</style>\n",
       "<table border=\"1\" class=\"dataframe\">\n",
       "  <thead>\n",
       "    <tr style=\"text-align: right;\">\n",
       "      <th></th>\n",
       "      <th>age</th>\n",
       "      <th>workclass</th>\n",
       "      <th>fnlwgt</th>\n",
       "      <th>education</th>\n",
       "      <th>educationalnum</th>\n",
       "      <th>marital-status</th>\n",
       "      <th>occupation</th>\n",
       "      <th>relationship</th>\n",
       "      <th>race</th>\n",
       "      <th>gender</th>\n",
       "      <th>capitalgain</th>\n",
       "      <th>capitalloss</th>\n",
       "      <th>hoursperweek</th>\n",
       "      <th>nativecountry</th>\n",
       "    </tr>\n",
       "  </thead>\n",
       "  <tbody>\n",
       "    <tr>\n",
       "      <th>0</th>\n",
       "      <td>39</td>\n",
       "      <td>State-gov</td>\n",
       "      <td>77516</td>\n",
       "      <td>Bachelors</td>\n",
       "      <td>13</td>\n",
       "      <td>Never-married</td>\n",
       "      <td>Adm-clerical</td>\n",
       "      <td>Not-in-family</td>\n",
       "      <td>White</td>\n",
       "      <td>Male</td>\n",
       "      <td>2174</td>\n",
       "      <td>0</td>\n",
       "      <td>40</td>\n",
       "      <td>United-States</td>\n",
       "    </tr>\n",
       "    <tr>\n",
       "      <th>1</th>\n",
       "      <td>50</td>\n",
       "      <td>Self-emp-not-inc</td>\n",
       "      <td>83311</td>\n",
       "      <td>Bachelors</td>\n",
       "      <td>13</td>\n",
       "      <td>Married-civ-spouse</td>\n",
       "      <td>Exec-managerial</td>\n",
       "      <td>Husband</td>\n",
       "      <td>White</td>\n",
       "      <td>Male</td>\n",
       "      <td>0</td>\n",
       "      <td>0</td>\n",
       "      <td>13</td>\n",
       "      <td>United-States</td>\n",
       "    </tr>\n",
       "    <tr>\n",
       "      <th>2</th>\n",
       "      <td>38</td>\n",
       "      <td>Private</td>\n",
       "      <td>215646</td>\n",
       "      <td>HS-grad</td>\n",
       "      <td>9</td>\n",
       "      <td>Divorced</td>\n",
       "      <td>Handlers-cleaners</td>\n",
       "      <td>Not-in-family</td>\n",
       "      <td>White</td>\n",
       "      <td>Male</td>\n",
       "      <td>0</td>\n",
       "      <td>0</td>\n",
       "      <td>40</td>\n",
       "      <td>United-States</td>\n",
       "    </tr>\n",
       "    <tr>\n",
       "      <th>3</th>\n",
       "      <td>53</td>\n",
       "      <td>Private</td>\n",
       "      <td>234721</td>\n",
       "      <td>11th</td>\n",
       "      <td>7</td>\n",
       "      <td>Married-civ-spouse</td>\n",
       "      <td>Handlers-cleaners</td>\n",
       "      <td>Husband</td>\n",
       "      <td>Black</td>\n",
       "      <td>Male</td>\n",
       "      <td>0</td>\n",
       "      <td>0</td>\n",
       "      <td>40</td>\n",
       "      <td>United-States</td>\n",
       "    </tr>\n",
       "    <tr>\n",
       "      <th>4</th>\n",
       "      <td>28</td>\n",
       "      <td>Private</td>\n",
       "      <td>338409</td>\n",
       "      <td>Bachelors</td>\n",
       "      <td>13</td>\n",
       "      <td>Married-civ-spouse</td>\n",
       "      <td>Prof-specialty</td>\n",
       "      <td>Wife</td>\n",
       "      <td>Black</td>\n",
       "      <td>Female</td>\n",
       "      <td>0</td>\n",
       "      <td>0</td>\n",
       "      <td>40</td>\n",
       "      <td>Cuba</td>\n",
       "    </tr>\n",
       "  </tbody>\n",
       "</table>\n",
       "</div>"
      ],
      "text/plain": [
       "   age          workclass  fnlwgt   education  educationalnum  \\\n",
       "0   39          State-gov   77516   Bachelors              13   \n",
       "1   50   Self-emp-not-inc   83311   Bachelors              13   \n",
       "2   38            Private  215646     HS-grad               9   \n",
       "3   53            Private  234721        11th               7   \n",
       "4   28            Private  338409   Bachelors              13   \n",
       "\n",
       "        marital-status          occupation    relationship    race   gender  \\\n",
       "0        Never-married        Adm-clerical   Not-in-family   White     Male   \n",
       "1   Married-civ-spouse     Exec-managerial         Husband   White     Male   \n",
       "2             Divorced   Handlers-cleaners   Not-in-family   White     Male   \n",
       "3   Married-civ-spouse   Handlers-cleaners         Husband   Black     Male   \n",
       "4   Married-civ-spouse      Prof-specialty            Wife   Black   Female   \n",
       "\n",
       "   capitalgain  capitalloss  hoursperweek   nativecountry  \n",
       "0         2174            0            40   United-States  \n",
       "1            0            0            13   United-States  \n",
       "2            0            0            40   United-States  \n",
       "3            0            0            40   United-States  \n",
       "4            0            0            40            Cuba  "
      ]
     },
     "execution_count": 7,
     "metadata": {},
     "output_type": "execute_result"
    }
   ],
   "source": [
    "adult.head()"
   ]
  },
  {
   "cell_type": "markdown",
   "metadata": {},
   "source": [
    "#### Education and educationnum both represent the level of education. So we can remove one of them.\n",
    "#### fnlwgt – The number of people the census takers believe that observation represents. Remove this variable."
   ]
  },
  {
   "cell_type": "code",
   "execution_count": 8,
   "metadata": {
    "collapsed": true
   },
   "outputs": [],
   "source": [
    "del adult['education']\n",
    "del adult['fnlwgt']"
   ]
  },
  {
   "cell_type": "code",
   "execution_count": 9,
   "metadata": {},
   "outputs": [
    {
     "data": {
      "text/html": [
       "<div>\n",
       "<style scoped>\n",
       "    .dataframe tbody tr th:only-of-type {\n",
       "        vertical-align: middle;\n",
       "    }\n",
       "\n",
       "    .dataframe tbody tr th {\n",
       "        vertical-align: top;\n",
       "    }\n",
       "\n",
       "    .dataframe thead th {\n",
       "        text-align: right;\n",
       "    }\n",
       "</style>\n",
       "<table border=\"1\" class=\"dataframe\">\n",
       "  <thead>\n",
       "    <tr style=\"text-align: right;\">\n",
       "      <th></th>\n",
       "      <th>age</th>\n",
       "      <th>workclass</th>\n",
       "      <th>educationalnum</th>\n",
       "      <th>marital-status</th>\n",
       "      <th>occupation</th>\n",
       "      <th>relationship</th>\n",
       "      <th>race</th>\n",
       "      <th>gender</th>\n",
       "      <th>capitalgain</th>\n",
       "      <th>capitalloss</th>\n",
       "      <th>hoursperweek</th>\n",
       "      <th>nativecountry</th>\n",
       "    </tr>\n",
       "  </thead>\n",
       "  <tbody>\n",
       "    <tr>\n",
       "      <th>0</th>\n",
       "      <td>39</td>\n",
       "      <td>State-gov</td>\n",
       "      <td>13</td>\n",
       "      <td>Never-married</td>\n",
       "      <td>Adm-clerical</td>\n",
       "      <td>Not-in-family</td>\n",
       "      <td>White</td>\n",
       "      <td>Male</td>\n",
       "      <td>2174</td>\n",
       "      <td>0</td>\n",
       "      <td>40</td>\n",
       "      <td>United-States</td>\n",
       "    </tr>\n",
       "    <tr>\n",
       "      <th>1</th>\n",
       "      <td>50</td>\n",
       "      <td>Self-emp-not-inc</td>\n",
       "      <td>13</td>\n",
       "      <td>Married-civ-spouse</td>\n",
       "      <td>Exec-managerial</td>\n",
       "      <td>Husband</td>\n",
       "      <td>White</td>\n",
       "      <td>Male</td>\n",
       "      <td>0</td>\n",
       "      <td>0</td>\n",
       "      <td>13</td>\n",
       "      <td>United-States</td>\n",
       "    </tr>\n",
       "    <tr>\n",
       "      <th>2</th>\n",
       "      <td>38</td>\n",
       "      <td>Private</td>\n",
       "      <td>9</td>\n",
       "      <td>Divorced</td>\n",
       "      <td>Handlers-cleaners</td>\n",
       "      <td>Not-in-family</td>\n",
       "      <td>White</td>\n",
       "      <td>Male</td>\n",
       "      <td>0</td>\n",
       "      <td>0</td>\n",
       "      <td>40</td>\n",
       "      <td>United-States</td>\n",
       "    </tr>\n",
       "    <tr>\n",
       "      <th>3</th>\n",
       "      <td>53</td>\n",
       "      <td>Private</td>\n",
       "      <td>7</td>\n",
       "      <td>Married-civ-spouse</td>\n",
       "      <td>Handlers-cleaners</td>\n",
       "      <td>Husband</td>\n",
       "      <td>Black</td>\n",
       "      <td>Male</td>\n",
       "      <td>0</td>\n",
       "      <td>0</td>\n",
       "      <td>40</td>\n",
       "      <td>United-States</td>\n",
       "    </tr>\n",
       "    <tr>\n",
       "      <th>4</th>\n",
       "      <td>28</td>\n",
       "      <td>Private</td>\n",
       "      <td>13</td>\n",
       "      <td>Married-civ-spouse</td>\n",
       "      <td>Prof-specialty</td>\n",
       "      <td>Wife</td>\n",
       "      <td>Black</td>\n",
       "      <td>Female</td>\n",
       "      <td>0</td>\n",
       "      <td>0</td>\n",
       "      <td>40</td>\n",
       "      <td>Cuba</td>\n",
       "    </tr>\n",
       "  </tbody>\n",
       "</table>\n",
       "</div>"
      ],
      "text/plain": [
       "   age          workclass  educationalnum       marital-status  \\\n",
       "0   39          State-gov              13        Never-married   \n",
       "1   50   Self-emp-not-inc              13   Married-civ-spouse   \n",
       "2   38            Private               9             Divorced   \n",
       "3   53            Private               7   Married-civ-spouse   \n",
       "4   28            Private              13   Married-civ-spouse   \n",
       "\n",
       "           occupation    relationship    race   gender  capitalgain  \\\n",
       "0        Adm-clerical   Not-in-family   White     Male         2174   \n",
       "1     Exec-managerial         Husband   White     Male            0   \n",
       "2   Handlers-cleaners   Not-in-family   White     Male            0   \n",
       "3   Handlers-cleaners         Husband   Black     Male            0   \n",
       "4      Prof-specialty            Wife   Black   Female            0   \n",
       "\n",
       "   capitalloss  hoursperweek   nativecountry  \n",
       "0            0            40   United-States  \n",
       "1            0            13   United-States  \n",
       "2            0            40   United-States  \n",
       "3            0            40   United-States  \n",
       "4            0            40            Cuba  "
      ]
     },
     "execution_count": 9,
     "metadata": {},
     "output_type": "execute_result"
    }
   ],
   "source": [
    "adult.head()"
   ]
  },
  {
   "cell_type": "code",
   "execution_count": 10,
   "metadata": {
    "collapsed": true
   },
   "outputs": [],
   "source": [
    "adult = pd.get_dummies(adult, columns=['workclass','marital-status','occupation',\n",
    "                                         'relationship','race',\n",
    "                                         'gender','nativecountry'])"
   ]
  },
  {
   "cell_type": "code",
   "execution_count": 11,
   "metadata": {},
   "outputs": [
    {
     "data": {
      "text/plain": [
       "(45222, 87)"
      ]
     },
     "execution_count": 11,
     "metadata": {},
     "output_type": "execute_result"
    }
   ],
   "source": [
    "adult.shape"
   ]
  },
  {
   "cell_type": "code",
   "execution_count": 12,
   "metadata": {},
   "outputs": [
    {
     "name": "stdout",
     "output_type": "stream",
     "text": [
      "Training dataset size:  31655\n",
      "Testing dataset size:  13567\n",
      "Training label dataset size:  31655\n",
      "Testing label dataset size:  13567\n"
     ]
    }
   ],
   "source": [
    "\n",
    "# Train - Test split# Train  \n",
    "X_train, X_test, y_train, y_test = train_test_split(adult, y, test_size  = 0.3)\n",
    "\n",
    "print(\"Training dataset size: \", len(X_train))\n",
    "print(\"Testing dataset size: \", len(X_test))\n",
    "print(\"Training label dataset size: \", len(y_train))\n",
    "print(\"Testing label dataset size: \", len(y_test))"
   ]
  },
  {
   "cell_type": "code",
   "execution_count": 13,
   "metadata": {},
   "outputs": [
    {
     "data": {
      "text/html": [
       "<div>\n",
       "<style scoped>\n",
       "    .dataframe tbody tr th:only-of-type {\n",
       "        vertical-align: middle;\n",
       "    }\n",
       "\n",
       "    .dataframe tbody tr th {\n",
       "        vertical-align: top;\n",
       "    }\n",
       "\n",
       "    .dataframe thead th {\n",
       "        text-align: right;\n",
       "    }\n",
       "</style>\n",
       "<table border=\"1\" class=\"dataframe\">\n",
       "  <thead>\n",
       "    <tr style=\"text-align: right;\">\n",
       "      <th></th>\n",
       "      <th>age</th>\n",
       "      <th>educationalnum</th>\n",
       "      <th>capitalgain</th>\n",
       "      <th>capitalloss</th>\n",
       "      <th>hoursperweek</th>\n",
       "      <th>workclass_ Federal-gov</th>\n",
       "      <th>workclass_ Local-gov</th>\n",
       "      <th>workclass_ Private</th>\n",
       "      <th>workclass_ Self-emp-inc</th>\n",
       "      <th>workclass_ Self-emp-not-inc</th>\n",
       "      <th>...</th>\n",
       "      <th>nativecountry_ Portugal</th>\n",
       "      <th>nativecountry_ Puerto-Rico</th>\n",
       "      <th>nativecountry_ Scotland</th>\n",
       "      <th>nativecountry_ South</th>\n",
       "      <th>nativecountry_ Taiwan</th>\n",
       "      <th>nativecountry_ Thailand</th>\n",
       "      <th>nativecountry_ Trinadad&amp;Tobago</th>\n",
       "      <th>nativecountry_ United-States</th>\n",
       "      <th>nativecountry_ Vietnam</th>\n",
       "      <th>nativecountry_ Yugoslavia</th>\n",
       "    </tr>\n",
       "  </thead>\n",
       "  <tbody>\n",
       "    <tr>\n",
       "      <th>30798</th>\n",
       "      <td>36</td>\n",
       "      <td>10</td>\n",
       "      <td>0</td>\n",
       "      <td>0</td>\n",
       "      <td>37</td>\n",
       "      <td>0</td>\n",
       "      <td>0</td>\n",
       "      <td>1</td>\n",
       "      <td>0</td>\n",
       "      <td>0</td>\n",
       "      <td>...</td>\n",
       "      <td>0</td>\n",
       "      <td>0</td>\n",
       "      <td>0</td>\n",
       "      <td>0</td>\n",
       "      <td>0</td>\n",
       "      <td>0</td>\n",
       "      <td>0</td>\n",
       "      <td>1</td>\n",
       "      <td>0</td>\n",
       "      <td>0</td>\n",
       "    </tr>\n",
       "    <tr>\n",
       "      <th>9194</th>\n",
       "      <td>62</td>\n",
       "      <td>14</td>\n",
       "      <td>0</td>\n",
       "      <td>0</td>\n",
       "      <td>55</td>\n",
       "      <td>0</td>\n",
       "      <td>0</td>\n",
       "      <td>1</td>\n",
       "      <td>0</td>\n",
       "      <td>0</td>\n",
       "      <td>...</td>\n",
       "      <td>0</td>\n",
       "      <td>0</td>\n",
       "      <td>0</td>\n",
       "      <td>0</td>\n",
       "      <td>0</td>\n",
       "      <td>0</td>\n",
       "      <td>0</td>\n",
       "      <td>1</td>\n",
       "      <td>0</td>\n",
       "      <td>0</td>\n",
       "    </tr>\n",
       "    <tr>\n",
       "      <th>9940</th>\n",
       "      <td>33</td>\n",
       "      <td>13</td>\n",
       "      <td>0</td>\n",
       "      <td>0</td>\n",
       "      <td>40</td>\n",
       "      <td>0</td>\n",
       "      <td>0</td>\n",
       "      <td>1</td>\n",
       "      <td>0</td>\n",
       "      <td>0</td>\n",
       "      <td>...</td>\n",
       "      <td>0</td>\n",
       "      <td>0</td>\n",
       "      <td>0</td>\n",
       "      <td>0</td>\n",
       "      <td>0</td>\n",
       "      <td>0</td>\n",
       "      <td>0</td>\n",
       "      <td>1</td>\n",
       "      <td>0</td>\n",
       "      <td>0</td>\n",
       "    </tr>\n",
       "    <tr>\n",
       "      <th>1907</th>\n",
       "      <td>26</td>\n",
       "      <td>14</td>\n",
       "      <td>0</td>\n",
       "      <td>0</td>\n",
       "      <td>50</td>\n",
       "      <td>0</td>\n",
       "      <td>0</td>\n",
       "      <td>0</td>\n",
       "      <td>0</td>\n",
       "      <td>1</td>\n",
       "      <td>...</td>\n",
       "      <td>0</td>\n",
       "      <td>0</td>\n",
       "      <td>0</td>\n",
       "      <td>0</td>\n",
       "      <td>0</td>\n",
       "      <td>0</td>\n",
       "      <td>0</td>\n",
       "      <td>1</td>\n",
       "      <td>0</td>\n",
       "      <td>0</td>\n",
       "    </tr>\n",
       "    <tr>\n",
       "      <th>1671</th>\n",
       "      <td>43</td>\n",
       "      <td>10</td>\n",
       "      <td>0</td>\n",
       "      <td>0</td>\n",
       "      <td>50</td>\n",
       "      <td>0</td>\n",
       "      <td>0</td>\n",
       "      <td>1</td>\n",
       "      <td>0</td>\n",
       "      <td>0</td>\n",
       "      <td>...</td>\n",
       "      <td>0</td>\n",
       "      <td>0</td>\n",
       "      <td>0</td>\n",
       "      <td>0</td>\n",
       "      <td>0</td>\n",
       "      <td>0</td>\n",
       "      <td>0</td>\n",
       "      <td>1</td>\n",
       "      <td>0</td>\n",
       "      <td>0</td>\n",
       "    </tr>\n",
       "  </tbody>\n",
       "</table>\n",
       "<p>5 rows × 87 columns</p>\n",
       "</div>"
      ],
      "text/plain": [
       "       age  educationalnum  capitalgain  capitalloss  hoursperweek  \\\n",
       "30798   36              10            0            0            37   \n",
       "9194    62              14            0            0            55   \n",
       "9940    33              13            0            0            40   \n",
       "1907    26              14            0            0            50   \n",
       "1671    43              10            0            0            50   \n",
       "\n",
       "       workclass_ Federal-gov  workclass_ Local-gov  workclass_ Private  \\\n",
       "30798                       0                     0                   1   \n",
       "9194                        0                     0                   1   \n",
       "9940                        0                     0                   1   \n",
       "1907                        0                     0                   0   \n",
       "1671                        0                     0                   1   \n",
       "\n",
       "       workclass_ Self-emp-inc  workclass_ Self-emp-not-inc  ...  \\\n",
       "30798                        0                            0  ...   \n",
       "9194                         0                            0  ...   \n",
       "9940                         0                            0  ...   \n",
       "1907                         0                            1  ...   \n",
       "1671                         0                            0  ...   \n",
       "\n",
       "       nativecountry_ Portugal  nativecountry_ Puerto-Rico  \\\n",
       "30798                        0                           0   \n",
       "9194                         0                           0   \n",
       "9940                         0                           0   \n",
       "1907                         0                           0   \n",
       "1671                         0                           0   \n",
       "\n",
       "       nativecountry_ Scotland  nativecountry_ South  nativecountry_ Taiwan  \\\n",
       "30798                        0                     0                      0   \n",
       "9194                         0                     0                      0   \n",
       "9940                         0                     0                      0   \n",
       "1907                         0                     0                      0   \n",
       "1671                         0                     0                      0   \n",
       "\n",
       "       nativecountry_ Thailand  nativecountry_ Trinadad&Tobago  \\\n",
       "30798                        0                               0   \n",
       "9194                         0                               0   \n",
       "9940                         0                               0   \n",
       "1907                         0                               0   \n",
       "1671                         0                               0   \n",
       "\n",
       "       nativecountry_ United-States  nativecountry_ Vietnam  \\\n",
       "30798                             1                       0   \n",
       "9194                              1                       0   \n",
       "9940                              1                       0   \n",
       "1907                              1                       0   \n",
       "1671                              1                       0   \n",
       "\n",
       "       nativecountry_ Yugoslavia  \n",
       "30798                          0  \n",
       "9194                           0  \n",
       "9940                           0  \n",
       "1907                           0  \n",
       "1671                           0  \n",
       "\n",
       "[5 rows x 87 columns]"
      ]
     },
     "execution_count": 13,
     "metadata": {},
     "output_type": "execute_result"
    }
   ],
   "source": [
    "X_train.head()"
   ]
  },
  {
   "cell_type": "code",
   "execution_count": 14,
   "metadata": {
    "collapsed": true
   },
   "outputs": [],
   "source": [
    "#min_max_scaler = preprocessing.MinMaxScaler()\n",
    "#X_train = min_max_scaler.fit_transform(X_train)\n",
    "X_train = preprocessing.scale(X_train)\n",
    "X_test = preprocessing.scale(X_test)"
   ]
  },
  {
   "cell_type": "markdown",
   "metadata": {},
   "source": [
    "### Check for hyper paramters using C and kernel"
   ]
  },
  {
   "cell_type": "code",
   "execution_count": 15,
   "metadata": {},
   "outputs": [
    {
     "data": {
      "image/png": "[encoded data removed]",
      "text/plain": [
       "<Figure size 432x288 with 1 Axes>"
      ]
     },
     "metadata": {
      "needs_background": "light"
     },
     "output_type": "display_data"
    },
    {
     "name": "stdout",
     "output_type": "stream",
     "text": [
      "train_scores = [0.8341889  0.85351446 0.86791977 0.87942664 0.8829253 ]\n",
      "test_scores = [0.83294884 0.8438477  0.8423315  0.8374034  0.83601342]\n",
      "Optimal C =  1  Minimum Error =   0.1561522980799156\n"
     ]
    }
   ],
   "source": [
    "param_range = [0.1, 1, 10, 100, 200]\n",
    "classifier = SVC()\n",
    "\n",
    "train_scores, test_scores = validation_curve( classifier, X_train, y_train, param_name=\"C\", param_range=param_range,\n",
    "    cv=5, scoring=make_scorer(accuracy_score), n_jobs=5)\n",
    "train_mean = np.mean(train_scores, axis=1)\n",
    "train_std = np.std(train_scores, axis=1)\n",
    "test_mean = np.mean(test_scores, axis=1)\n",
    "test_std = np.std(test_scores, axis=1)\n",
    "\n",
    "plt.title(\"Income Dataset - SVM Model Complexity \\n Hyper Parameter: C (Figure 21)\")\n",
    "plt.xlabel(\"C\")\n",
    "plt.ylabel(\"Error\")\n",
    "\n",
    "\n",
    "lw = 2\n",
    "plt.plot(param_range, 1 - train_mean, label=\"Training Error\",\n",
    "             color=\"darkorange\", lw=lw)\n",
    "plt.plot(param_range, 1 - test_mean, label=\"Cross-validation Error\",\n",
    "             color=\"navy\", lw=lw)\n",
    "plt.legend(loc=\"best\")\n",
    "plt.show()\n",
    "\n",
    "print(\"train_scores =\", train_mean)\n",
    "print(\"test_scores =\", test_mean)\n",
    "print(\"Optimal C = \",  param_range[np.ndarray.argmax(test_mean)], \" Minimum Error =  \" , (1 - np.amax(test_mean))  )\n",
    "\n"
   ]
  },
  {
   "cell_type": "markdown",
   "metadata": {},
   "source": [
    "### Choose best hyperparameters using different kernels and C - cv error\n"
   ]
  },
  {
   "cell_type": "code",
   "execution_count": 20,
   "metadata": {},
   "outputs": [
    {
     "name": "stderr",
     "output_type": "stream",
     "text": [
      "C:\\ProgramData\\Anaconda3\\lib\\site-packages\\sklearn\\svm\\base.py:193: FutureWarning: The default value of gamma will change from 'auto' to 'scale' in version 0.22 to account better for unscaled features. Set gamma explicitly to 'auto' or 'scale' to avoid this warning.\n",
      "  \"avoid this warning.\", FutureWarning)\n",
      "C:\\ProgramData\\Anaconda3\\lib\\site-packages\\sklearn\\svm\\base.py:193: FutureWarning: The default value of gamma will change from 'auto' to 'scale' in version 0.22 to account better for unscaled features. Set gamma explicitly to 'auto' or 'scale' to avoid this warning.\n",
      "  \"avoid this warning.\", FutureWarning)\n",
      "C:\\ProgramData\\Anaconda3\\lib\\site-packages\\sklearn\\svm\\base.py:193: FutureWarning: The default value of gamma will change from 'auto' to 'scale' in version 0.22 to account better for unscaled features. Set gamma explicitly to 'auto' or 'scale' to avoid this warning.\n",
      "  \"avoid this warning.\", FutureWarning)\n",
      "C:\\ProgramData\\Anaconda3\\lib\\site-packages\\sklearn\\svm\\base.py:193: FutureWarning: The default value of gamma will change from 'auto' to 'scale' in version 0.22 to account better for unscaled features. Set gamma explicitly to 'auto' or 'scale' to avoid this warning.\n",
      "  \"avoid this warning.\", FutureWarning)\n",
      "C:\\ProgramData\\Anaconda3\\lib\\site-packages\\sklearn\\svm\\base.py:193: FutureWarning: The default value of gamma will change from 'auto' to 'scale' in version 0.22 to account better for unscaled features. Set gamma explicitly to 'auto' or 'scale' to avoid this warning.\n",
      "  \"avoid this warning.\", FutureWarning)\n",
      "C:\\ProgramData\\Anaconda3\\lib\\site-packages\\sklearn\\svm\\base.py:193: FutureWarning: The default value of gamma will change from 'auto' to 'scale' in version 0.22 to account better for unscaled features. Set gamma explicitly to 'auto' or 'scale' to avoid this warning.\n",
      "  \"avoid this warning.\", FutureWarning)\n",
      "C:\\ProgramData\\Anaconda3\\lib\\site-packages\\sklearn\\svm\\base.py:193: FutureWarning: The default value of gamma will change from 'auto' to 'scale' in version 0.22 to account better for unscaled features. Set gamma explicitly to 'auto' or 'scale' to avoid this warning.\n",
      "  \"avoid this warning.\", FutureWarning)\n",
      "C:\\ProgramData\\Anaconda3\\lib\\site-packages\\sklearn\\svm\\base.py:193: FutureWarning: The default value of gamma will change from 'auto' to 'scale' in version 0.22 to account better for unscaled features. Set gamma explicitly to 'auto' or 'scale' to avoid this warning.\n",
      "  \"avoid this warning.\", FutureWarning)\n",
      "C:\\ProgramData\\Anaconda3\\lib\\site-packages\\sklearn\\svm\\base.py:193: FutureWarning: The default value of gamma will change from 'auto' to 'scale' in version 0.22 to account better for unscaled features. Set gamma explicitly to 'auto' or 'scale' to avoid this warning.\n",
      "  \"avoid this warning.\", FutureWarning)\n",
      "C:\\ProgramData\\Anaconda3\\lib\\site-packages\\sklearn\\svm\\base.py:193: FutureWarning: The default value of gamma will change from 'auto' to 'scale' in version 0.22 to account better for unscaled features. Set gamma explicitly to 'auto' or 'scale' to avoid this warning.\n",
      "  \"avoid this warning.\", FutureWarning)\n",
      "C:\\ProgramData\\Anaconda3\\lib\\site-packages\\sklearn\\svm\\base.py:193: FutureWarning: The default value of gamma will change from 'auto' to 'scale' in version 0.22 to account better for unscaled features. Set gamma explicitly to 'auto' or 'scale' to avoid this warning.\n",
      "  \"avoid this warning.\", FutureWarning)\n",
      "C:\\ProgramData\\Anaconda3\\lib\\site-packages\\sklearn\\svm\\base.py:193: FutureWarning: The default value of gamma will change from 'auto' to 'scale' in version 0.22 to account better for unscaled features. Set gamma explicitly to 'auto' or 'scale' to avoid this warning.\n",
      "  \"avoid this warning.\", FutureWarning)\n",
      "C:\\ProgramData\\Anaconda3\\lib\\site-packages\\sklearn\\svm\\base.py:193: FutureWarning: The default value of gamma will change from 'auto' to 'scale' in version 0.22 to account better for unscaled features. Set gamma explicitly to 'auto' or 'scale' to avoid this warning.\n",
      "  \"avoid this warning.\", FutureWarning)\n",
      "C:\\ProgramData\\Anaconda3\\lib\\site-packages\\sklearn\\svm\\base.py:193: FutureWarning: The default value of gamma will change from 'auto' to 'scale' in version 0.22 to account better for unscaled features. Set gamma explicitly to 'auto' or 'scale' to avoid this warning.\n",
      "  \"avoid this warning.\", FutureWarning)\n",
      "C:\\ProgramData\\Anaconda3\\lib\\site-packages\\sklearn\\svm\\base.py:193: FutureWarning: The default value of gamma will change from 'auto' to 'scale' in version 0.22 to account better for unscaled features. Set gamma explicitly to 'auto' or 'scale' to avoid this warning.\n",
      "  \"avoid this warning.\", FutureWarning)\n"
     ]
    }
   ],
   "source": [
    "np.random.seed(55)\n",
    "param_kernel = [\"rbf\", \"linear\", \"poly\", \"sigmoid\"]\n",
    "classifier = SVC()\n",
    "\n",
    "\n",
    "i=0\n",
    "cv_scores=[]\n",
    "train_scores=[]\n",
    "    \n",
    "for kernel_p in param_kernel:\n",
    "    classifier = SVC(kernel = kernel_p)\n",
    "    scores = cross_validate(classifier, X_train, y_train, cv = 5, scoring = make_scorer(accuracy_score), return_train_score = True)\n",
    "\n",
    "    cv_scores.append(np.mean(scores['test_score']))\n",
    "    train_scores.append(np.mean(scores['train_score']))\n",
    "    i = i+1"
   ]
  },
  {
   "cell_type": "code",
   "execution_count": 21,
   "metadata": {},
   "outputs": [
    {
     "name": "stdout",
     "output_type": "stream",
     "text": [
      "[0.8438477019200844, 0.8458062783212009, 0.8268203808630694, 0.8115622624051143]\n"
     ]
    }
   ],
   "source": [
    "print(cv_scores)"
   ]
  },
  {
   "cell_type": "code",
   "execution_count": 18,
   "metadata": {},
   "outputs": [
    {
     "name": "stdout",
     "output_type": "stream",
     "text": [
      "<class 'numpy.ndarray'>\n",
      "[0.1561523]\n"
     ]
    }
   ],
   "source": [
    "\n",
    "cv_scores_np = np.array(cv_scores)\n",
    "print(type(cv_scores_np))\n",
    "\n",
    "cv_scores_np = 1-cv_scores_np\n",
    "print(cv_scores_np)\n"
   ]
  },
  {
   "cell_type": "code",
   "execution_count": 22,
   "metadata": {},
   "outputs": [
    {
     "data": {
      "image/png": "[encoded data removed]",
      "text/plain": [
       "<Figure size 432x288 with 1 Axes>"
      ]
     },
     "metadata": {
      "needs_background": "light"
     },
     "output_type": "display_data"
    },
    {
     "name": "stdout",
     "output_type": "stream",
     "text": [
      "train_scores = [0.8535144594625337, 0.84722791662664, 0.8435160318129867, 0.8074079898025367]\n",
      "test_scores = [0.8438477019200844, 0.8458062783212009, 0.8268203808630694, 0.8115622624051143]\n",
      "Optimal C =  linear  Minimum Error =   0.15419372167879908\n"
     ]
    }
   ],
   "source": [
    "cv_scores_np = np.array(cv_scores)\n",
    "train_scores_np = np.array(train_scores)\n",
    "\n",
    "\n",
    "plt.title(\"Income Dataset - SVM Model Complexity \\n Hyper Parameter: kernel (Figure 23)\")\n",
    "plt.xlabel(\"C\")\n",
    "plt.ylabel(\"Error\")\n",
    "\n",
    "\n",
    "lw = 2\n",
    "plt.plot(param_kernel, 1 - train_scores_np, label=\"Training Error\",\n",
    "             color=\"darkorange\", lw=lw)\n",
    "plt.plot(param_kernel, 1 - cv_scores_np, label=\"Cross-validation Error\",\n",
    "             color=\"navy\", lw=lw)\n",
    "plt.legend(loc=\"best\")\n",
    "plt.show()\n",
    "\n",
    "print(\"train_scores =\", train_scores)\n",
    "print(\"test_scores =\", cv_scores)\n",
    "print(\"Optimal C = \",  param_kernel[np.ndarray.argmax(cv_scores_np)], \" Minimum Error =  \" , (1 - np.amax(cv_scores_np))  )\n",
    "\n"
   ]
  },
  {
   "cell_type": "code",
   "execution_count": 29,
   "metadata": {},
   "outputs": [
    {
     "data": {
      "image/png": "[encoded data removed]",
      "text/plain": [
       "<Figure size 432x288 with 1 Axes>"
      ]
     },
     "metadata": {
      "needs_background": "light"
     },
     "output_type": "display_data"
    }
   ],
   "source": [
    "train_scores = [0.8535144594625337, 0.84722791662664, 0.8435160318129867, 0.8074079898025367]\n",
    "test_scores = [0.8438477019200844, 0.8458062783212009, 0.8268203808630694, 0.8115622624051143]\n",
    "\n",
    "train_mean = np.array(train_scores)\n",
    "test_mean = np.array(test_scores)\n",
    "\n",
    "plt.title(\"Income Dataset - SVM Model Complexity \\n Hyper Parameter: C (Figure 23)\")\n",
    "plt.xlabel(\"kernel\")\n",
    "plt.ylabel(\"Error\")\n",
    "\n",
    "\n",
    "lw = 2\n",
    "plt.plot(param_kernel, 1 - train_mean, label=\"Training Error\",\n",
    "             color=\"darkorange\", lw=lw)\n",
    "plt.plot(param_kernel, 1 - test_mean, label=\"Cross-validation Error\",\n",
    "             color=\"navy\", lw=lw)\n",
    "plt.legend(loc=\"best\")\n",
    "plt.show()\n"
   ]
  },
  {
   "cell_type": "markdown",
   "metadata": {},
   "source": [
    "### Create learning curve - Sample data set size vs. Error"
   ]
  },
  {
   "cell_type": "code",
   "execution_count": null,
   "metadata": {
    "collapsed": true
   },
   "outputs": [],
   "source": [
    "train_scores = [0.8535144594625337, 0.84722791662664, 0.8435160318129867, 0.8074079898025367]\n",
    "test_scores = [0.8438477019200844, 0.8458062783212009, 0.8268203808630694, 0.8115622624051143]\n"
   ]
  },
  {
   "cell_type": "code",
   "execution_count": 23,
   "metadata": {},
   "outputs": [
    {
     "name": "stdout",
     "output_type": "stream",
     "text": [
      "\n",
      "train_scores = [0.85631912 0.85687204 0.85184308 0.85165367 0.84966432 0.8500362\n",
      " 0.8487194  0.84872149 0.8470645  0.84725348]\n",
      "test_scores = [0.8432158  0.84381606 0.84447956 0.84473223 0.84514282 0.84530082\n",
      " 0.84549029 0.84586941 0.84590101 0.84580628]\n",
      "train sizes = [ 2532  5064  7596 10129 12661 15193 17726 20258 22790 25323]\n"
     ]
    },
    {
     "data": {
      "image/png": "[encoded data removed]",
      "text/plain": [
       "<Figure size 432x288 with 1 Axes>"
      ]
     },
     "metadata": {
      "needs_background": "light"
     },
     "output_type": "display_data"
    }
   ],
   "source": [
    "np.random.seed(55)\n",
    "classifier = SVC(kernel = \"linear\", C = 1)\n",
    "classifier.fit(X_train, y_train)\n",
    "\n",
    "title = \"Income Dataset - SVM Learning Curve \\n (Figure 25)\"\n",
    "ylim=(0.0, 0.3)\n",
    "# Cross validation with 100 iterations to get smoother mean test and train\n",
    "# score curves, each time with 20% data randomly selected as a validation set.\n",
    "#cv = ShuffleSplit(n_splits=100, test_size=0.3, random_state=0)\n",
    "#cv = StratifiedKFold(y_train, n_folds=10)\n",
    "#plot_learning_curve(estimator, title, X_train, y_train, , cv=cv, n_jobs=4)\n",
    "\n",
    "\n",
    "\n",
    "plt.title(title)\n",
    "if ylim is not None:\n",
    "    plt.ylim(*ylim)\n",
    "plt.xlabel(\"Training Dataset Size\")\n",
    "plt.ylabel(\"Error\")\n",
    "train_sizes, train_scores, test_scores = learning_curve(\n",
    "    classifier, X_train, y_train, cv=5, n_jobs=4, train_sizes=np.linspace(.1, 1.0, 10))\n",
    "\n",
    "\n",
    "\n",
    "train_scores_mean = np.mean(train_scores, axis=1)\n",
    "train_scores_std = np.std(train_scores, axis=1)\n",
    "test_scores_mean = np.mean(test_scores, axis=1)\n",
    "test_scores_std = np.std(test_scores, axis=1)\n",
    "#test_scores_mean1 = np.mean(test_scores1, axis=1)\n",
    "\n",
    "print(\"\")\n",
    "    \n",
    "lw = 2\n",
    "plt.plot(train_sizes, 1 - train_scores_mean, 'o-', color=\"r\",\n",
    "             label=\"Training Error\",  lw=lw)\n",
    "plt.plot(train_sizes, (1- test_scores_mean), 'o-', color=\"g\",\n",
    "             label=\"Cross-validation Error\",  lw=lw)\n",
    "\n",
    "plt.legend(loc=\"best\")\n",
    "print(\"train_scores =\", train_scores_mean)\n",
    "print(\"test_scores =\", test_scores_mean)\n",
    "print(\"train sizes =\", train_sizes)\n",
    "\n",
    "plt.show()\n",
    "\n",
    "\n"
   ]
  },
  {
   "cell_type": "markdown",
   "metadata": {},
   "source": [
    "### Predict on Testing set"
   ]
  },
  {
   "cell_type": "code",
   "execution_count": 31,
   "metadata": {},
   "outputs": [
    {
     "name": "stdout",
     "output_type": "stream",
     "text": [
      "Accuracy: 85.1256725878971%\n",
      "[[9478  707]\n",
      " [1311 2071]]\n",
      "              precision    recall  f1-score   support\n",
      "\n",
      "           y       0.88      0.93      0.90     10185\n",
      "           n       0.75      0.61      0.67      3382\n",
      "\n",
      "    accuracy                           0.85     13567\n",
      "   macro avg       0.81      0.77      0.79     13567\n",
      "weighted avg       0.85      0.85      0.85     13567\n",
      "\n",
      "AUC = 0.7714718715008302\n",
      "Prediction Time =  28.918264500000078\n",
      "Training Time =  207.62248460000046\n"
     ]
    }
   ],
   "source": [
    "st_train_time = timeit.default_timer() \n",
    "classifier.fit(X_train, y_train)\n",
    "end_train_time = timeit.default_timer()\n",
    "\n",
    "\n",
    "st_pred_time = timeit.default_timer() \n",
    "y_pred = classifier.predict(X_test)\n",
    "end_pred_time = timeit.default_timer() \n",
    "\n",
    "pred_time = end_pred_time - st_pred_time\n",
    "\n",
    "print(\"Accuracy: %s%%\" % (100*accuracy_score(y_test, y_pred)))\n",
    "print(confusion_matrix(y_test, y_pred))\n",
    "\n",
    "print(classification_report(y_test, y_pred, target_names=['y', 'n']))\n",
    "print(\"AUC =\", roc_auc_score(y_test, y_pred))\n",
    "print(\"Prediction Time = \", pred_time)\n",
    "print(\"Training Time = \", end_train_time - st_train_time)\n",
    "#Create timings for Cross-validation set\n"
   ]
  },
  {
   "cell_type": "code",
   "execution_count": null,
   "metadata": {
    "collapsed": true
   },
   "outputs": [],
   "source": [
    "estimator.n_features_"
   ]
  }
 ],
 "metadata": {
  "kernelspec": {
   "display_name": "Python 3",
   "language": "python",
   "name": "python3"
  },
  "language_info": {
   "codemirror_mode": {
    "name": "ipython",
    "version": 3
   },
   "file_extension": ".py",
   "mimetype": "text/x-python",
   "name": "python",
   "nbconvert_exporter": "python",
   "pygments_lexer": "ipython3",
   "version": "3.6.3"
  }
 },
 "nbformat": 4,
 "nbformat_minor": 2
}
